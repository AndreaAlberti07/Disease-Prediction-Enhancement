{
 "cells": [
  {
   "cell_type": "code",
   "execution_count": null,
   "metadata": {},
   "outputs": [],
   "source": [
    "# Create a bipartite graph from the adjacency matrix\n",
    "adjacency_matrix = pd.read_csv(\"../dataset/adjacency_matrix.csv\").values\n",
    "\n",
    "# Remove the last column of the adjacency matrix\n",
    "adjacency_matrix = adjacency_matrix[:, :-1]\n",
    "\n",
    "B = gg.get_graph(adjacency_matrix)\n",
    "\n",
    "# Get the nodes of each partition (diseases and symptoms)\n",
    "diseases = {n for n, d in B.nodes(data=True) if d['bipartite'] == 0}\n",
    "symptoms = set(B) - diseases\n",
    "\n",
    "# Create unipartite projections\n",
    "G_diseases = nx.bipartite.projected_graph(B, diseases)\n",
    "G_symptoms = nx.bipartite.projected_graph(B, symptoms)\n",
    "\n",
    "# Compute the layout positions of the two unipartite projections\n",
    "pos = nx.kamada_kawai_layout(B)\n",
    "\n",
    "# Draw the unipartite projections (optional)\n",
    "plt.figure(figsize=(12, 6))\n",
    "\n",
    "plt.subplot(1, 2, 1)\n",
    "plt.title('Diseases Projection')\n",
    "nx.draw( G_diseases,\n",
    "    pos,\n",
    "    with_labels=False,\n",
    "    font_weight=\"bold\",\n",
    "    node_size=70,  # Adjust the node size\n",
    "    width=0.15,  # Adjust the edge width\n",
    "    node_color=\"blue\")\n",
    "\n",
    "\n",
    "\n",
    "plt.subplot(1, 2, 2)\n",
    "plt.title('Symptoms Projection')\n",
    "nx.draw( G_symptoms,\n",
    "    pos,\n",
    "    with_labels=False,\n",
    "    font_weight=\"bold\",\n",
    "    node_size=70,  # Adjust the node size\n",
    "    width=0.15,  # Adjust the edge width\n",
    "    node_color=\"lightcoral\")\n",
    "\n",
    "plt.show()"
   ]
  },
  {
   "cell_type": "markdown",
   "metadata": {},
   "source": [
    "# Compute Metrics about the Bipartite Graph"
   ]
  },
  {
   "cell_type": "code",
   "execution_count": 3,
   "metadata": {},
   "outputs": [],
   "source": [
    "import networkx as nx\n",
    "import numpy as np\n",
    "from networkx.algorithms import bipartite\n",
    "import matplotlib.pyplot as plt\n",
    "import scripts.get_graph as gg\n",
    "import pandas as pd"
   ]
  },
  {
   "cell_type": "markdown",
   "metadata": {},
   "source": [
    "### Betweenness Centrality"
   ]
  }
 ],
 "metadata": {
  "kernelspec": {
   "display_name": "Python 3",
   "language": "python",
   "name": "python3"
  },
  "language_info": {
   "codemirror_mode": {
    "name": "ipython",
    "version": 3
   },
   "file_extension": ".py",
   "mimetype": "text/x-python",
   "name": "python",
   "nbconvert_exporter": "python",
   "pygments_lexer": "ipython3",
   "version": "3.11.5"
  }
 },
 "nbformat": 4,
 "nbformat_minor": 2
}
