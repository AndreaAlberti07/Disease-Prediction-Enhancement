{
 "cells": [
  {
   "cell_type": "markdown",
   "metadata": {},
   "source": [
    "# Compute Clustering Coefficient\n"
   ]
  },
  {
   "cell_type": "markdown",
   "metadata": {},
   "source": [
    "## Get adjacency matrix and graphs"
   ]
  },
  {
   "cell_type": "code",
   "execution_count": 5,
   "metadata": {},
   "outputs": [],
   "source": [
    "import networkx as nx\n",
    "import pandas as pd\n",
    "from scripts.get_graph import get_graph\n",
    "\n",
    "# Get the adjacency matrix from the data\n",
    "adjacency_matrix = pd.read_csv(\"../dataset/adjacency_matrix.csv\").values\n",
    "\n",
    "# Remove the last column of the adjacency matrix\n",
    "adjacency_matrix = adjacency_matrix[:, :-1]\n",
    "num_rows, num_cols = adjacency_matrix.shape\n",
    "graph = get_graph(adjacency_matrix)"
   ]
  },
  {
   "cell_type": "markdown",
   "metadata": {},
   "source": [
    "## Compute coefficients"
   ]
  },
  {
   "cell_type": "code",
   "execution_count": 6,
   "metadata": {},
   "outputs": [
    {
     "name": "stdout",
     "output_type": "stream",
     "text": [
      "Average Clustering Coefficient: 0.340\n",
      "Average Clustering Coefficient of Diseases: 0.124\n",
      "Average Clustering Coefficient of Symptoms: 0.408\n"
     ]
    }
   ],
   "source": [
    "# Compute clustering coefficient\n",
    "clustering_coefficient = nx.bipartite.average_clustering(graph)\n",
    "\n",
    "print(f\"Average Clustering Coefficient: {clustering_coefficient:.3f}\")\n",
    "\n",
    "# Compute clustering coefficient for symptoms\n",
    "diseases_clustering = nx.bipartite.average_clustering(\n",
    "    graph, nodes=range(adjacency_matrix.shape[0])\n",
    ")\n",
    "\n",
    "print(f\"Average Clustering Coefficient of Diseases: {diseases_clustering:.3f}\")\n",
    "\n",
    "# Compute clustering coefficient for diseases\n",
    "symptoms_clustering = nx.bipartite.average_clustering(\n",
    "    graph,\n",
    "    nodes=range(\n",
    "        adjacency_matrix.shape[0], adjacency_matrix.shape[1] + adjacency_matrix.shape[0]\n",
    "    ),\n",
    ")\n",
    "\n",
    "print(f\"Average Clustering Coefficient of Symptoms: {symptoms_clustering:.3f}\")"
   ]
  }
 ],
 "metadata": {
  "kernelspec": {
   "display_name": "Python 3",
   "language": "python",
   "name": "python3"
  },
  "language_info": {
   "codemirror_mode": {
    "name": "ipython",
    "version": 3
   },
   "file_extension": ".py",
   "mimetype": "text/x-python",
   "name": "python",
   "nbconvert_exporter": "python",
   "pygments_lexer": "ipython3",
   "version": "3.10.12"
  }
 },
 "nbformat": 4,
 "nbformat_minor": 2
}
