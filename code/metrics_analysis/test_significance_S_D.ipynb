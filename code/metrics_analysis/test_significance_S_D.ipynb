{
 "cells": [
  {
   "cell_type": "markdown",
   "metadata": {},
   "source": [
    "# WIP\n",
    "# Test significance of S1, S2, D1, D2\n",
    "The idea is to follow the procedure of the paper \"Assessing harmfulness and vulnerability in global bipartite networks of\n",
    "terrorist-target relationships\" A. Spelta et al."
   ]
  },
  {
   "cell_type": "code",
   "execution_count": null,
   "metadata": {},
   "outputs": [],
   "source": [
    "import sys\n",
    "\n",
    "sys.path.insert(0, \"../\")\n",
    "\n",
    "import networkx as nx\n",
    "import numpy as np\n",
    "import pandas as pd\n",
    "import matplotlib.pyplot as plt\n",
    "from scipy.optimize import minimize\n",
    "from scripts.hid_haus import hid_hous\n",
    "from scripts.get_graph import get_graph"
   ]
  },
  {
   "cell_type": "markdown",
   "metadata": {},
   "source": [
    "## Get Adjacency matrix and graph"
   ]
  },
  {
   "cell_type": "code",
   "execution_count": null,
   "metadata": {},
   "outputs": [],
   "source": [
    "# Get the adjacency matrix from the data\n",
    "adjacency_matrix = pd.read_csv(\"../../dataset/adjacency_matrix.csv\").values\n",
    "\n",
    "# Remove the last column of the adjacency matrix\n",
    "adjacency_matrix = adjacency_matrix[:, :-1]\n",
    "graph = get_graph(adjacency_matrix)"
   ]
  },
  {
   "cell_type": "markdown",
   "metadata": {},
   "source": [
    "## Null Model Construction (Level-1)\n"
   ]
  },
  {
   "cell_type": "code",
   "execution_count": null,
   "metadata": {},
   "outputs": [],
   "source": [
    "# Define a function to generate random graphs while preserving degrees\n",
    "def generate_null_model(A):\n",
    "    G_null = nx.configuration_model(np.sum(A, axis=1))\n",
    "    return nx.Graph(G_null)\n",
    "\n",
    "\n",
    "# Create an ensemble of random networks\n",
    "num_null_models = 100  # You can adjust this number\n",
    "null_models = [generate_null_model(adjacency_matrix) for _ in range(num_null_models)]"
   ]
  },
  {
   "cell_type": "markdown",
   "metadata": {},
   "source": [
    "## WIP\n",
    "## Null Model Construction (Level-2):\n"
   ]
  },
  {
   "cell_type": "code",
   "execution_count": null,
   "metadata": {},
   "outputs": [],
   "source": [
    "# theta_U and theta_u are the unknown parameter vectors\n",
    "def loss_function(theta_U, theta_u):\n",
    "    # Calculate the log-likelihood based on the provided formula\n",
    "    log_likelihood = (\n",
    "        np.sum(np.log(theta_U))\n",
    "        + np.sum(np.log(theta_u))\n",
    "        + np.log(1 - np.dot(theta_U, theta_u))\n",
    "    )\n",
    "\n",
    "    # Minimize the negative log-likelihood\n",
    "    return -log_likelihood\n",
    "\n",
    "\n",
    "initial_guess_U = 0\n",
    "initial_guess_u = 0\n",
    "result = minimize(\n",
    "    loss_function, x0=(initial_guess_U, initial_guess_u), method=\"L-BFGS-B\"\n",
    ")\n",
    "\n",
    "# Extract optimal parameters\n",
    "optimal_theta_U, optimal_theta_u = result.x"
   ]
  },
  {
   "cell_type": "markdown",
   "metadata": {},
   "source": [
    "## Statistical Validation:\n"
   ]
  },
  {
   "cell_type": "code",
   "execution_count": null,
   "metadata": {},
   "outputs": [],
   "source": [
    "# Compute the same measures for each null model\n",
    "null_model_measures = [hid_hous(null_model, 3) for null_model in null_models]\n",
    "\n",
    "\n",
    "# Calculate Z-scores for statistical significance\n",
    "def calculate_z_score(real_value, null_model_values):\n",
    "    mean_null = np.mean(null_model_values)\n",
    "    std_null = np.std(null_model_values)\n",
    "    z_score = (real_value - mean_null) / std_null\n",
    "    return z_score\n",
    "\n",
    "[real_kd, real_ks] = hid_hous(adjacency_matrix, 3)\n",
    "\n",
    "# Compute Z-scores for your measures\n",
    "z_score_kd = calculate_z_score(real_kd, [kd for kd, _ in null_model_measures])\n",
    "z_score_ks = calculate_z_score(real_ks, [ks for _, ks in null_model_measures])\n"
   ]
  }
 ],
 "metadata": {
  "language_info": {
   "name": "python"
  }
 },
 "nbformat": 4,
 "nbformat_minor": 2
}
