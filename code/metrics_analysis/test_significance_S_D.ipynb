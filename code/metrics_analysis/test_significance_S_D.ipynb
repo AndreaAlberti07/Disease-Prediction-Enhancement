{
 "cells": [
  {
   "cell_type": "markdown",
   "metadata": {},
   "source": [
    "# WIP\n",
    "# Test significance of S1, S2, D1, D2\n",
    "The idea is to follow the procedure of the paper \"Assessing harmfulness and vulnerability in global bipartite networks of\n",
    "terrorist-target relationships\" A. Spelta et al."
   ]
  },
  {
   "cell_type": "code",
   "execution_count": 1,
   "metadata": {},
   "outputs": [],
   "source": [
    "import sys\n",
    "\n",
    "sys.path.insert(0, \"../\")\n",
    "\n",
    "import networkx as nx\n",
    "import numpy as np\n",
    "import pandas as pd\n",
    "from scripts.hid_haus import hid_hous\n",
    "from scripts.get_graph import get_graph"
   ]
  },
  {
   "cell_type": "markdown",
   "metadata": {},
   "source": [
    "## Get Adjacency matrix and graph"
   ]
  },
  {
   "cell_type": "code",
   "execution_count": 2,
   "metadata": {},
   "outputs": [],
   "source": [
    "# Get the adjacency matrix from the data\n",
    "adjacency_matrix = pd.read_csv(\"../../dataset/large_adjacency_matrix.csv\").values\n",
    "\n",
    "adjacency_matrix = adjacency_matrix[:, :-1]\n",
    "# Remove the last column of the adjacency matrix\n",
    "graph = get_graph(adjacency_matrix)"
   ]
  },
  {
   "cell_type": "markdown",
   "metadata": {},
   "source": [
    "## Null Model Construction (Level-1)\n"
   ]
  },
  {
   "cell_type": "code",
   "execution_count": 3,
   "metadata": {},
   "outputs": [
    {
     "ename": "AmbiguousSolution",
     "evalue": "Disconnected graph: Ambiguous solution for bipartite sets.",
     "output_type": "error",
     "traceback": [
      "\u001b[0;31m---------------------------------------------------------------------------\u001b[0m",
      "\u001b[0;31mAmbiguousSolution\u001b[0m                         Traceback (most recent call last)",
      "\u001b[1;32m/home/davide-ligari/github/uniPv/financial-project/code/metrics_analysis/test_significance_S_D.ipynb Cell 6\u001b[0m line \u001b[0;36m1\n\u001b[1;32m     <a href='vscode-notebook-cell:/home/davide-ligari/github/uniPv/financial-project/code/metrics_analysis/test_significance_S_D.ipynb#W5sZmlsZQ%3D%3D?line=16'>17</a>\u001b[0m \u001b[39m# Create an ensemble of random networks\u001b[39;00m\n\u001b[1;32m     <a href='vscode-notebook-cell:/home/davide-ligari/github/uniPv/financial-project/code/metrics_analysis/test_significance_S_D.ipynb#W5sZmlsZQ%3D%3D?line=17'>18</a>\u001b[0m num_null_models \u001b[39m=\u001b[39m \u001b[39m1001\u001b[39m  \u001b[39m# You can adjust this number\u001b[39;00m\n\u001b[0;32m---> <a href='vscode-notebook-cell:/home/davide-ligari/github/uniPv/financial-project/code/metrics_analysis/test_significance_S_D.ipynb#W5sZmlsZQ%3D%3D?line=18'>19</a>\u001b[0m null_models \u001b[39m=\u001b[39m [generate_null_model(graph) \u001b[39mfor\u001b[39;00m _ \u001b[39min\u001b[39;00m \u001b[39mrange\u001b[39m(num_null_models)]\n",
      "\u001b[1;32m/home/davide-ligari/github/uniPv/financial-project/code/metrics_analysis/test_significance_S_D.ipynb Cell 6\u001b[0m line \u001b[0;36m1\n\u001b[1;32m     <a href='vscode-notebook-cell:/home/davide-ligari/github/uniPv/financial-project/code/metrics_analysis/test_significance_S_D.ipynb#W5sZmlsZQ%3D%3D?line=16'>17</a>\u001b[0m \u001b[39m# Create an ensemble of random networks\u001b[39;00m\n\u001b[1;32m     <a href='vscode-notebook-cell:/home/davide-ligari/github/uniPv/financial-project/code/metrics_analysis/test_significance_S_D.ipynb#W5sZmlsZQ%3D%3D?line=17'>18</a>\u001b[0m num_null_models \u001b[39m=\u001b[39m \u001b[39m1001\u001b[39m  \u001b[39m# You can adjust this number\u001b[39;00m\n\u001b[0;32m---> <a href='vscode-notebook-cell:/home/davide-ligari/github/uniPv/financial-project/code/metrics_analysis/test_significance_S_D.ipynb#W5sZmlsZQ%3D%3D?line=18'>19</a>\u001b[0m null_models \u001b[39m=\u001b[39m [generate_null_model(graph) \u001b[39mfor\u001b[39;00m _ \u001b[39min\u001b[39;00m \u001b[39mrange\u001b[39m(num_null_models)]\n",
      "\u001b[1;32m/home/davide-ligari/github/uniPv/financial-project/code/metrics_analysis/test_significance_S_D.ipynb Cell 6\u001b[0m line \u001b[0;36m4\n\u001b[1;32m      <a href='vscode-notebook-cell:/home/davide-ligari/github/uniPv/financial-project/code/metrics_analysis/test_significance_S_D.ipynb#W5sZmlsZQ%3D%3D?line=1'>2</a>\u001b[0m \u001b[39mdef\u001b[39;00m \u001b[39mgenerate_null_model\u001b[39m(bipartite_graph):\n\u001b[1;32m      <a href='vscode-notebook-cell:/home/davide-ligari/github/uniPv/financial-project/code/metrics_analysis/test_significance_S_D.ipynb#W5sZmlsZQ%3D%3D?line=2'>3</a>\u001b[0m     \u001b[39m# Get the degree sequences for both bipartite sets\u001b[39;00m\n\u001b[0;32m----> <a href='vscode-notebook-cell:/home/davide-ligari/github/uniPv/financial-project/code/metrics_analysis/test_significance_S_D.ipynb#W5sZmlsZQ%3D%3D?line=3'>4</a>\u001b[0m     top_nodes, bottom_nodes \u001b[39m=\u001b[39m nx\u001b[39m.\u001b[39;49mbipartite\u001b[39m.\u001b[39;49msets(bipartite_graph)\n\u001b[1;32m      <a href='vscode-notebook-cell:/home/davide-ligari/github/uniPv/financial-project/code/metrics_analysis/test_significance_S_D.ipynb#W5sZmlsZQ%3D%3D?line=5'>6</a>\u001b[0m     top_degrees \u001b[39m=\u001b[39m bipartite_graph\u001b[39m.\u001b[39mdegree(top_nodes)\n\u001b[1;32m      <a href='vscode-notebook-cell:/home/davide-ligari/github/uniPv/financial-project/code/metrics_analysis/test_significance_S_D.ipynb#W5sZmlsZQ%3D%3D?line=6'>7</a>\u001b[0m     top_degrees \u001b[39m=\u001b[39m [degree \u001b[39mfor\u001b[39;00m _, degree \u001b[39min\u001b[39;00m top_degrees]\n",
      "File \u001b[0;32m~/.local/lib/python3.10/site-packages/networkx/algorithms/bipartite/basic.py:214\u001b[0m, in \u001b[0;36msets\u001b[0;34m(G, top_nodes)\u001b[0m\n\u001b[1;32m    212\u001b[0m \u001b[39mif\u001b[39;00m \u001b[39mnot\u001b[39;00m is_connected(G):\n\u001b[1;32m    213\u001b[0m     msg \u001b[39m=\u001b[39m \u001b[39m\"\u001b[39m\u001b[39mDisconnected graph: Ambiguous solution for bipartite sets.\u001b[39m\u001b[39m\"\u001b[39m\n\u001b[0;32m--> 214\u001b[0m     \u001b[39mraise\u001b[39;00m nx\u001b[39m.\u001b[39mAmbiguousSolution(msg)\n\u001b[1;32m    215\u001b[0m c \u001b[39m=\u001b[39m color(G)\n\u001b[1;32m    216\u001b[0m X \u001b[39m=\u001b[39m {n \u001b[39mfor\u001b[39;00m n, is_top \u001b[39min\u001b[39;00m c\u001b[39m.\u001b[39mitems() \u001b[39mif\u001b[39;00m is_top}\n",
      "\u001b[0;31mAmbiguousSolution\u001b[0m: Disconnected graph: Ambiguous solution for bipartite sets."
     ]
    }
   ],
   "source": [
    "# Define a function to generate random graphs while preserving degrees\n",
    "def generate_null_model(bipartite_graph):\n",
    "    # Get the degree sequences for both bipartite sets\n",
    "    top_nodes, bottom_nodes = nx.bipartite.sets(bipartite_graph)\n",
    "\n",
    "    top_degrees = bipartite_graph.degree(top_nodes)\n",
    "    top_degrees = [degree for _, degree in top_degrees]\n",
    "\n",
    "    bottom_degrees = bipartite_graph.degree(bottom_nodes)\n",
    "    bottom_degrees = [degree for _, degree in bottom_degrees]\n",
    "\n",
    "    # Create configuration model\n",
    "    config_model = nx.bipartite.configuration_model(top_degrees, bottom_degrees)\n",
    "    return nx.Graph(config_model)\n",
    "\n",
    "\n",
    "# Create an ensemble of random networks\n",
    "num_null_models = 1001  # You can adjust this number\n",
    "null_models = [generate_null_model(graph) for _ in range(num_null_models)]"
   ]
  },
  {
   "cell_type": "markdown",
   "metadata": {},
   "source": [
    "## Statistical Validation:\n"
   ]
  },
  {
   "cell_type": "code",
   "execution_count": null,
   "metadata": {},
   "outputs": [],
   "source": [
    "# Compute the same measures for each null model\n",
    "null_model_measures = [hid_hous(nx.adjacency_matrix(null_model), 3) for null_model in null_models]\n",
    "\n",
    "\n",
    "# Calculate Z-scores for statistical significance\n",
    "def calculate_z_score(real_value, null_model_values):\n",
    "    mean_null = np.mean(null_model_values)\n",
    "    std_null = np.std(null_model_values)\n",
    "    z_score = (real_value - mean_null) / std_null\n",
    "    return z_score\n",
    "\n",
    "[real_kd, real_ks] = hid_hous(adjacency_matrix, 2)\n",
    "\n",
    "# Compute Z-scores for your measures\n",
    "z_score_kd = calculate_z_score(real_kd, [kd for kd, _ in null_model_measures])\n",
    "z_score_ks = calculate_z_score(real_ks, [ks for _, ks in null_model_measures])\n"
   ]
  },
  {
   "cell_type": "markdown",
   "metadata": {},
   "source": [
    "## Visualize the z-score"
   ]
  },
  {
   "cell_type": "markdown",
   "metadata": {},
   "source": [
    "### Create a dataframe containing all metrics"
   ]
  },
  {
   "cell_type": "code",
   "execution_count": null,
   "metadata": {},
   "outputs": [],
   "source": [
    "diseases = pd.read_csv(\"../../dataset/diseases.csv\")\n",
    "\n",
    "disease_df = pd.DataFrame(diseases, columns=[\"diseases\"])\n",
    "disease_df[\"L1 Z-score\"] = z_score_kd[:, 0].tolist()\n",
    "disease_df[\"L2 Z-score\"] = z_score_kd[:, 1].tolist()\n",
    "\n",
    "\n",
    "symptoms = pd.read_csv(\"../../dataset/symptoms.csv\")\n",
    "\n",
    "\n",
    "symptoms_df = pd.DataFrame(symptoms, columns=[\"symptom\"])\n",
    "symptoms_df[\"L1 Z-score\"] = z_score_ks[:, 0].tolist()\n",
    "symptoms_df[\"L2 Z-score\"] = z_score_ks[:, 1].tolist()"
   ]
  },
  {
   "cell_type": "markdown",
   "metadata": {},
   "source": [
    "### L1"
   ]
  },
  {
   "cell_type": "code",
   "execution_count": null,
   "metadata": {},
   "outputs": [],
   "source": [
    "disease_df.plot.bar(\n",
    "    x=\"Disease\",\n",
    "    y=[\"L1 Z-score\"],\n",
    "    rot=90,\n",
    "    figsize=(20, 10),\n",
    "    legend=False,\n",
    "    ylabel=\"Z-score\",\n",
    "    title=\"Z-score of L1 for Diseases\",\n",
    "    fontsize=20,\n",
    "    \n",
    ")\n",
    "\n",
    "\n",
    "symptoms_df.plot.bar(\n",
    "    x=\"Symptom\",\n",
    "    y=[\"L1 Z-score\"],\n",
    "    rot=90,\n",
    "    figsize=(30, 10),\n",
    "    legend=False,\n",
    "    ylabel=\"Z-score\",\n",
    "    title=\"Z-score of L1 for Symptoms\",\n",
    "    fontsize=20,\n",
    ")"
   ]
  },
  {
   "cell_type": "markdown",
   "metadata": {},
   "source": [
    "### L2"
   ]
  },
  {
   "cell_type": "code",
   "execution_count": null,
   "metadata": {},
   "outputs": [],
   "source": [
    "disease_df.plot.bar(\n",
    "    x=\"Disease\",\n",
    "    y=[\"L2 Z-score\"],\n",
    "    rot=90,\n",
    "    figsize=(20, 10),\n",
    "    legend=False,\n",
    "    ylabel=\"Z-score\",\n",
    "    title=\"Z-score of L2 for Diseases\",\n",
    "    fontsize=20,\n",
    "    color=\"orange\"\n",
    "    \n",
    ")\n",
    "\n",
    "\n",
    "symptoms_df.plot.bar(\n",
    "    x=\"Symptom\",\n",
    "    y=[\"L2 Z-score\"],\n",
    "    rot=90,\n",
    "    figsize=(30, 10),\n",
    "    legend=False,\n",
    "    ylabel=\"Z-score\",\n",
    "    title=\"Z-score of L2 for Symptoms\",\n",
    "    color=\"orange\"\n",
    ")"
   ]
  }
 ],
 "metadata": {
  "kernelspec": {
   "display_name": "Python 3",
   "language": "python",
   "name": "python3"
  },
  "language_info": {
   "codemirror_mode": {
    "name": "ipython",
    "version": 3
   },
   "file_extension": ".py",
   "mimetype": "text/x-python",
   "name": "python",
   "nbconvert_exporter": "python",
   "pygments_lexer": "ipython3",
   "version": "3.10.12"
  }
 },
 "nbformat": 4,
 "nbformat_minor": 2
}
