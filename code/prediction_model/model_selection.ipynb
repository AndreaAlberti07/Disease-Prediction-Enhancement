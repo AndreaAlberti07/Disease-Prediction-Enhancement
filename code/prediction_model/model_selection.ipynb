{
 "cells": [
  {
   "cell_type": "markdown",
   "metadata": {},
   "source": [
    "# Model Selection\n",
    "---"
   ]
  },
  {
   "cell_type": "code",
   "execution_count": 37,
   "metadata": {},
   "outputs": [],
   "source": [
    "import joblib as jl\n",
    "import sklearn as sk\n",
    "import numpy as np\n",
    "import matplotlib.pyplot as plt\n",
    "import pandas as pd\n",
    "from matplotlib import cm\n",
    "from matplotlib.colors import Normalize"
   ]
  },
  {
   "cell_type": "code",
   "execution_count": 17,
   "metadata": {},
   "outputs": [],
   "source": [
    "# Compute accuracy, precision, recall and AUPRC for each model\n",
    "def compute_metrics(model, data):\n",
    "    y_pred = model.predict(data[:, :-1])\n",
    "    y_true = data[:, -1]\n",
    "    accuracy = sk.metrics.accuracy_score(y_true, y_pred)\n",
    "    #precision = sk.metrics.precision_score(y_true, y_pred)\n",
    "    #recall = sk.metrics.recall_score(y_true, y_pred)\n",
    "    #auprc = sk.metrics.average_precision_score(y_true, y_pred, average='micro')\n",
    "    return accuracy"
   ]
  },
  {
   "cell_type": "markdown",
   "metadata": {},
   "source": [
    "### Models With Only Symptoms One Hot"
   ]
  },
  {
   "cell_type": "code",
   "execution_count": 20,
   "metadata": {},
   "outputs": [],
   "source": [
    "# Load the models\n",
    "path = '../prediction_model/models/'\n",
    "mod_names = ['log_reg_classic', 'log_reg_classic', 'MLP_classic']\n",
    "\n",
    "log_reg = jl.load(path + mod_names[0] + '.joblib')\n",
    "random_forest = jl.load(path + mod_names[1] + '.joblib')\n",
    "MLP = jl.load(path + mod_names[2] + '.joblib')\n",
    "\n",
    "# Load the data\n",
    "path = '../prediction_model/features/'\n",
    "data_names = ['symptoms']\n",
    "\n",
    "symptoms = np.load(path + data_names[0] + '.npz')\n",
    "data = np.concatenate((symptoms['X'], symptoms['y'].reshape(symptoms['y'].shape[0],1)), axis=1)"
   ]
  },
  {
   "cell_type": "code",
   "execution_count": 26,
   "metadata": {},
   "outputs": [
    {
     "data": {
      "text/html": [
       "<div>\n",
       "<style scoped>\n",
       "    .dataframe tbody tr th:only-of-type {\n",
       "        vertical-align: middle;\n",
       "    }\n",
       "\n",
       "    .dataframe tbody tr th {\n",
       "        vertical-align: top;\n",
       "    }\n",
       "\n",
       "    .dataframe thead th {\n",
       "        text-align: right;\n",
       "    }\n",
       "</style>\n",
       "<table border=\"1\" class=\"dataframe\">\n",
       "  <thead>\n",
       "    <tr style=\"text-align: right;\">\n",
       "      <th></th>\n",
       "      <th>accuracy</th>\n",
       "    </tr>\n",
       "  </thead>\n",
       "  <tbody>\n",
       "    <tr>\n",
       "      <th>log_reg_classic</th>\n",
       "      <td>0.8318</td>\n",
       "    </tr>\n",
       "    <tr>\n",
       "      <th>log_reg_classic</th>\n",
       "      <td>0.8318</td>\n",
       "    </tr>\n",
       "    <tr>\n",
       "      <th>MLP_classic</th>\n",
       "      <td>0.825113</td>\n",
       "    </tr>\n",
       "  </tbody>\n",
       "</table>\n",
       "</div>"
      ],
      "text/plain": [
       "                 accuracy\n",
       "log_reg_classic    0.8318\n",
       "log_reg_classic    0.8318\n",
       "MLP_classic      0.825113"
      ]
     },
     "execution_count": 26,
     "metadata": {},
     "output_type": "execute_result"
    }
   ],
   "source": [
    "# create a dataframe with model names and metrics and the corresponding values\n",
    "metrics = ['accuracy']\n",
    "df = pd.DataFrame(columns=metrics, index = mod_names)\n",
    "\n",
    "df.loc['log_reg_classic', metrics] = compute_metrics(log_reg, data)\n",
    "#df.loc['random_forest_classic', metrics] = compute_metrics(random_forest, data)\n",
    "df.loc['MLP_classic', metrics] = compute_metrics(MLP, data)\n",
    "\n",
    "df"
   ]
  },
  {
   "cell_type": "code",
   "execution_count": 54,
   "metadata": {},
   "outputs": [
    {
     "name": "stderr",
     "output_type": "stream",
     "text": [
      "/tmp/ipykernel_1959/1406076146.py:5: MatplotlibDeprecationWarning: The get_cmap function was deprecated in Matplotlib 3.7 and will be removed two minor releases later. Use ``matplotlib.colormaps[name]`` or ``matplotlib.colormaps.get_cmap(obj)`` instead.\n",
      "  cmap = cm.get_cmap('Blues')\n"
     ]
    },
    {
     "data": {
      "image/png": "[encoded data removed]",
      "text/plain": [
       "<Figure size 640x480 with 2 Axes>"
      ]
     },
     "metadata": {},
     "output_type": "display_data"
    }
   ],
   "source": [
    "# plot the accuracies\n",
    "accuracy_values = df['accuracy']\n",
    "\n",
    "# Create a colormap\n",
    "cmap = cm.get_cmap('Blues')\n",
    "\n",
    "# Normalize the data to map it to the colormap\n",
    "norm = Normalize(vmin=0.65, vmax=1)\n",
    "\n",
    "# Get the colors for each bar based on the normalized accuracy values\n",
    "colors = [cmap(norm(value)) for value in accuracy_values]\n",
    "\n",
    "# Plot the bar chart with colored bars\n",
    "fig, ax = plt.subplots()\n",
    "bars = ax.bar(mod_names, accuracy_values, color=colors)\n",
    "ax.set_ylabel('Accuracy')\n",
    "ax.set_title('Accuracy of the models')\n",
    "\n",
    "# Add a colorbar to show the mapping of values to colors\n",
    "cbar = plt.colorbar(cm.ScalarMappable(norm=norm, cmap=cmap), ax=ax)\n",
    "cbar.set_label('Accuracy')\n",
    "\n",
    "plt.show()"
   ]
  },
  {
   "cell_type": "markdown",
   "metadata": {},
   "source": [
    "### Models With New Features"
   ]
  },
  {
   "cell_type": "code",
   "execution_count": 28,
   "metadata": {},
   "outputs": [],
   "source": [
    "# Load the models\n",
    "path = '../prediction_model/models/'\n",
    "mod_names = ['log_reg_mix', 'log_reg_mix', 'MLP_mix']\n",
    "\n",
    "\n",
    "log_reg = jl.load(path + mod_names[0] + '.joblib')\n",
    "random_forest = jl.load(path + mod_names[1] + '.joblib')\n",
    "MLP = jl.load(path + mod_names[2] + '.joblib')\n",
    "\n",
    "# Load the data\n",
    "path = '../prediction_model/features/'\n",
    "data_names = ['betweenness', 'community_count', 'community_size']\n",
    "\n",
    "betweenness = np.load(path + data_names[0] + '.npz')\n",
    "community_count = np.load(path + data_names[1] + '.npz')\n",
    "community_size = np.load(path + data_names[2] + '.npz')\n",
    "\n",
    "# Associate the features \n",
    "data_log_reg = np.concatenate((betweenness['X'], community_count['X'], community_size['X'], community_count['y'].reshape(symptoms['y'].shape[0],1)), axis=1)\n",
    "data_random_forest = np.concatenate((betweenness['X'], community_count['X'], community_size['X'], community_count['y'].reshape(symptoms['y'].shape[0],1)), axis=1)\n",
    "data_MLP = np.concatenate((community_count['X'], community_size['X'], community_count['y'].reshape(symptoms['y'].shape[0],1)), axis=1)\n"
   ]
  },
  {
   "cell_type": "code",
   "execution_count": 30,
   "metadata": {},
   "outputs": [
    {
     "data": {
      "text/html": [
       "<div>\n",
       "<style scoped>\n",
       "    .dataframe tbody tr th:only-of-type {\n",
       "        vertical-align: middle;\n",
       "    }\n",
       "\n",
       "    .dataframe tbody tr th {\n",
       "        vertical-align: top;\n",
       "    }\n",
       "\n",
       "    .dataframe thead th {\n",
       "        text-align: right;\n",
       "    }\n",
       "</style>\n",
       "<table border=\"1\" class=\"dataframe\">\n",
       "  <thead>\n",
       "    <tr style=\"text-align: right;\">\n",
       "      <th></th>\n",
       "      <th>accuracy</th>\n",
       "    </tr>\n",
       "  </thead>\n",
       "  <tbody>\n",
       "    <tr>\n",
       "      <th>log_reg_mix</th>\n",
       "      <td>0.82174</td>\n",
       "    </tr>\n",
       "    <tr>\n",
       "      <th>log_reg_mix</th>\n",
       "      <td>0.82174</td>\n",
       "    </tr>\n",
       "    <tr>\n",
       "      <th>MLP_mix</th>\n",
       "      <td>0.772747</td>\n",
       "    </tr>\n",
       "  </tbody>\n",
       "</table>\n",
       "</div>"
      ],
      "text/plain": [
       "             accuracy\n",
       "log_reg_mix   0.82174\n",
       "log_reg_mix   0.82174\n",
       "MLP_mix      0.772747"
      ]
     },
     "execution_count": 30,
     "metadata": {},
     "output_type": "execute_result"
    }
   ],
   "source": [
    "# create a dataframe with model names and metrics and the corresponding values\n",
    "metrics = ['accuracy']\n",
    "df = pd.DataFrame(columns=metrics, index = mod_names)\n",
    "\n",
    "df.loc['log_reg_mix', metrics] = compute_metrics(log_reg, data_log_reg)\n",
    "#df.loc['random_forest_mix', metrics] = compute_metrics(random_forest, data_random_forest)\n",
    "df.loc['MLP_mix', metrics] = compute_metrics(MLP, data_MLP)\n",
    "\n",
    "df"
   ]
  },
  {
   "cell_type": "code",
   "execution_count": 55,
   "metadata": {},
   "outputs": [
    {
     "name": "stderr",
     "output_type": "stream",
     "text": [
      "/tmp/ipykernel_1959/3723584459.py:5: MatplotlibDeprecationWarning: The get_cmap function was deprecated in Matplotlib 3.7 and will be removed two minor releases later. Use ``matplotlib.colormaps[name]`` or ``matplotlib.colormaps.get_cmap(obj)`` instead.\n",
      "  cmap = cm.get_cmap('Blues')\n"
     ]
    },
    {
     "data": {
      "image/png": "[encoded data removed]",
      "text/plain": [
       "<Figure size 640x480 with 2 Axes>"
      ]
     },
     "metadata": {},
     "output_type": "display_data"
    }
   ],
   "source": [
    "# plot the accuracies\n",
    "accuracy_values = df['accuracy']\n",
    "\n",
    "# Create a colormap\n",
    "cmap = cm.get_cmap('Blues')\n",
    "\n",
    "# Normalize the data to map it to the colormap\n",
    "norm = Normalize(vmin=0.65, vmax=1)\n",
    "\n",
    "# Get the colors for each bar based on the normalized accuracy values\n",
    "colors = [cmap(norm(value)) for value in accuracy_values]\n",
    "\n",
    "# Plot the bar chart with colored bars\n",
    "fig, ax = plt.subplots()\n",
    "bars = ax.bar(mod_names, accuracy_values, color=colors)\n",
    "ax.set_ylabel('Accuracy')\n",
    "ax.set_title('Accuracy of the models')\n",
    "\n",
    "# Add a colorbar to show the mapping of values to colors\n",
    "cbar = plt.colorbar(cm.ScalarMappable(norm=norm, cmap=cmap), ax=ax)\n",
    "cbar.set_label('Accuracy')\n",
    "\n",
    "plt.show()\n"
   ]
  },
  {
   "cell_type": "markdown",
   "metadata": {},
   "source": [
    "### Compare the two best models"
   ]
  },
  {
   "cell_type": "code",
   "execution_count": 34,
   "metadata": {},
   "outputs": [],
   "source": [
    "# Load the models\n",
    "path = '../prediction_model/models/'\n",
    "mod_names = ['MLP_classic', 'log_reg_mix']\n",
    "\n",
    "classic = jl.load(path + mod_names[0] + '.joblib')\n",
    "mix = jl.load(path + mod_names[1] + '.joblib')\n",
    "\n",
    "# Load the data\n",
    "path = '../prediction_model/features/'\n",
    "data_names = ['symptoms', 'betweenness', 'community_count', 'community_size']\n",
    "\n",
    "symptoms = np.load(path + data_names[0] + '.npz')\n",
    "betweenness = np.load(path + data_names[1] + '.npz')\n",
    "community_count = np.load(path + data_names[2] + '.npz')\n",
    "community_size = np.load(path + data_names[3] + '.npz')\n",
    "\n",
    "data_classic = np.concatenate((symptoms['X'], symptoms['y'].reshape(symptoms['y'].shape[0],1)), axis=1)\n",
    "data_mix = np.concatenate((betweenness['X'], community_count['X'], community_size['X'], community_count['y'].reshape(symptoms['y'].shape[0],1)), axis=1)"
   ]
  },
  {
   "cell_type": "code",
   "execution_count": 35,
   "metadata": {},
   "outputs": [
    {
     "data": {
      "text/html": [
       "<div>\n",
       "<style scoped>\n",
       "    .dataframe tbody tr th:only-of-type {\n",
       "        vertical-align: middle;\n",
       "    }\n",
       "\n",
       "    .dataframe tbody tr th {\n",
       "        vertical-align: top;\n",
       "    }\n",
       "\n",
       "    .dataframe thead th {\n",
       "        text-align: right;\n",
       "    }\n",
       "</style>\n",
       "<table border=\"1\" class=\"dataframe\">\n",
       "  <thead>\n",
       "    <tr style=\"text-align: right;\">\n",
       "      <th></th>\n",
       "      <th>accuracy</th>\n",
       "    </tr>\n",
       "  </thead>\n",
       "  <tbody>\n",
       "    <tr>\n",
       "      <th>MLP_classic</th>\n",
       "      <td>0.772747</td>\n",
       "    </tr>\n",
       "    <tr>\n",
       "      <th>log_reg_mix</th>\n",
       "      <td>0.82174</td>\n",
       "    </tr>\n",
       "  </tbody>\n",
       "</table>\n",
       "</div>"
      ],
      "text/plain": [
       "             accuracy\n",
       "MLP_classic  0.772747\n",
       "log_reg_mix   0.82174"
      ]
     },
     "execution_count": 35,
     "metadata": {},
     "output_type": "execute_result"
    }
   ],
   "source": [
    "# create a dataframe with model names and metrics and the corresponding values\n",
    "metrics = ['accuracy']\n",
    "df = pd.DataFrame(columns=metrics, index = mod_names)\n",
    "\n",
    "df.loc['log_reg_mix', metrics] = compute_metrics(log_reg, data_log_reg)\n",
    "#df.loc['random_forest', metrics] = compute_metrics(random_forest, data_random_forest)\n",
    "df.loc['MLP_classic', metrics] = compute_metrics(MLP, data_MLP)\n",
    "\n",
    "df"
   ]
  },
  {
   "cell_type": "code",
   "execution_count": 56,
   "metadata": {},
   "outputs": [
    {
     "name": "stderr",
     "output_type": "stream",
     "text": [
      "/tmp/ipykernel_1959/3723584459.py:5: MatplotlibDeprecationWarning: The get_cmap function was deprecated in Matplotlib 3.7 and will be removed two minor releases later. Use ``matplotlib.colormaps[name]`` or ``matplotlib.colormaps.get_cmap(obj)`` instead.\n",
      "  cmap = cm.get_cmap('Blues')\n"
     ]
    },
    {
     "data": {
      "image/png": "[encoded data removed]",
      "text/plain": [
       "<Figure size 640x480 with 2 Axes>"
      ]
     },
     "metadata": {},
     "output_type": "display_data"
    }
   ],
   "source": [
    "# plot the accuracies\n",
    "accuracy_values = df['accuracy']\n",
    "\n",
    "# Create a colormap\n",
    "cmap = cm.get_cmap('Blues')\n",
    "\n",
    "# Normalize the data to map it to the colormap\n",
    "norm = Normalize(vmin=0.65, vmax=1)\n",
    "\n",
    "# Get the colors for each bar based on the normalized accuracy values\n",
    "colors = [cmap(norm(value)) for value in accuracy_values]\n",
    "\n",
    "# Plot the bar chart with colored bars\n",
    "fig, ax = plt.subplots()\n",
    "bars = ax.bar(mod_names, accuracy_values, color=colors)\n",
    "ax.set_ylabel('Accuracy')\n",
    "ax.set_title('Accuracy of the models')\n",
    "\n",
    "# Add a colorbar to show the mapping of values to colors\n",
    "cbar = plt.colorbar(cm.ScalarMappable(norm=norm, cmap=cmap), ax=ax)\n",
    "cbar.set_label('Accuracy')\n",
    "\n",
    "plt.show()\n"
   ]
  }
 ],
 "metadata": {
  "kernelspec": {
   "display_name": "Python 3",
   "language": "python",
   "name": "python3"
  },
  "language_info": {
   "codemirror_mode": {
    "name": "ipython",
    "version": 3
   },
   "file_extension": ".py",
   "mimetype": "text/x-python",
   "name": "python",
   "nbconvert_exporter": "python",
   "pygments_lexer": "ipython3",
   "version": "3.11.5"
  }
 },
 "nbformat": 4,
 "nbformat_minor": 2
}
