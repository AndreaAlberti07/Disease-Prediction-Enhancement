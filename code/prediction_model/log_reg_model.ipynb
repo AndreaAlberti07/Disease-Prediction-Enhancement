{
 "cells": [
  {
   "cell_type": "code",
   "execution_count": 1,
   "metadata": {},
   "outputs": [
    {
     "ename": "ValueError",
     "evalue": "all the input array dimensions except for the concatenation axis must match exactly, but along dimension 0, the array at index 0 has size 246914 and the array at index 1 has size 246945",
     "output_type": "error",
     "traceback": [
      "\u001b[1;31m---------------------------------------------------------------------------\u001b[0m",
      "\u001b[1;31mValueError\u001b[0m                                Traceback (most recent call last)",
      "\u001b[1;32mc:\\Users\\Cristian\\Documents\\GitHub\\financial-project\\code\\prediction_model\\log_reg_model.ipynb Cell 1\u001b[0m line \u001b[0;36m1\n\u001b[0;32m     <a href='vscode-notebook-cell:/c%3A/Users/Cristian/Documents/GitHub/financial-project/code/prediction_model/log_reg_model.ipynb#W0sZmlsZQ%3D%3D?line=12'>13</a>\u001b[0m \u001b[39m# Load data from .npz file\u001b[39;00m\n\u001b[0;32m     <a href='vscode-notebook-cell:/c%3A/Users/Cristian/Documents/GitHub/financial-project/code/prediction_model/log_reg_model.ipynb#W0sZmlsZQ%3D%3D?line=13'>14</a>\u001b[0m names \u001b[39m=\u001b[39m [\u001b[39m\"\u001b[39m\u001b[39mbetweenness\u001b[39m\u001b[39m\"\u001b[39m, \u001b[39m\"\u001b[39m\u001b[39mcommunity_count\u001b[39m\u001b[39m\"\u001b[39m, \u001b[39m\"\u001b[39m\u001b[39mcommunity_size\u001b[39m\u001b[39m\"\u001b[39m]\n\u001b[1;32m---> <a href='vscode-notebook-cell:/c%3A/Users/Cristian/Documents/GitHub/financial-project/code/prediction_model/log_reg_model.ipynb#W0sZmlsZQ%3D%3D?line=14'>15</a>\u001b[0m features, labels \u001b[39m=\u001b[39m load_features(names)\n\u001b[0;32m     <a href='vscode-notebook-cell:/c%3A/Users/Cristian/Documents/GitHub/financial-project/code/prediction_model/log_reg_model.ipynb#W0sZmlsZQ%3D%3D?line=16'>17</a>\u001b[0m features, labels \u001b[39m=\u001b[39m balanceSampling(features, labels)\n\u001b[0;32m     <a href='vscode-notebook-cell:/c%3A/Users/Cristian/Documents/GitHub/financial-project/code/prediction_model/log_reg_model.ipynb#W0sZmlsZQ%3D%3D?line=18'>19</a>\u001b[0m \u001b[39m# Split the data into training and testing sets\u001b[39;00m\n",
      "File \u001b[1;32mc:\\Users\\Cristian\\Documents\\GitHub\\financial-project\\code\\prediction_model\\..\\scripts\\features_extraction.py:40\u001b[0m, in \u001b[0;36mload_features\u001b[1;34m(names, path)\u001b[0m\n\u001b[0;32m     38\u001b[0m     all_features \u001b[39m=\u001b[39m data[\u001b[39m'\u001b[39m\u001b[39mX\u001b[39m\u001b[39m'\u001b[39m]\n\u001b[0;32m     39\u001b[0m \u001b[39melse\u001b[39;00m:\n\u001b[1;32m---> 40\u001b[0m     all_features \u001b[39m=\u001b[39m np\u001b[39m.\u001b[39;49mconcatenate((all_features, data[\u001b[39m'\u001b[39;49m\u001b[39mX\u001b[39;49m\u001b[39m'\u001b[39;49m]), axis\u001b[39m=\u001b[39;49m\u001b[39m1\u001b[39;49m)\n\u001b[0;32m     42\u001b[0m \u001b[39mif\u001b[39;00m all_labels \u001b[39mis\u001b[39;00m \u001b[39mNone\u001b[39;00m:\n\u001b[0;32m     43\u001b[0m     all_labels \u001b[39m=\u001b[39m data[\u001b[39m'\u001b[39m\u001b[39my\u001b[39m\u001b[39m'\u001b[39m]\n",
      "\u001b[1;31mValueError\u001b[0m: all the input array dimensions except for the concatenation axis must match exactly, but along dimension 0, the array at index 0 has size 246914 and the array at index 1 has size 246945"
     ]
    }
   ],
   "source": [
    "import sys\n",
    "sys.path.append(\"../\")\n",
    "\n",
    "from sklearn.preprocessing import MaxAbsScaler\n",
    "from sklearn.model_selection import GridSearchCV\n",
    "import numpy as np\n",
    "from sklearn.model_selection import train_test_split, GridSearchCV\n",
    "from sklearn.linear_model import LogisticRegression\n",
    "from sklearn.metrics import accuracy_score, classification_report\n",
    "from scripts.sampling import sampling, balanceSampling\n",
    "from scripts.features_extraction import load_features\n",
    "\n",
    "# Load data from .npz file\n",
    "names = [\"betweenness\", \"community_count\", \"community_size\"]\n",
    "features, labels = load_features(names)\n",
    "\n",
    "features, labels = balanceSampling(features, labels)\n",
    "\n",
    "# Split the data into training and testing sets\n",
    "X_train, X_test, y_train, y_test = train_test_split(features, labels, test_size=0.2, random_state=42)\n",
    "\n",
    "# Perform MaxAbsScaler normalization\n",
    "scaler = MaxAbsScaler()\n",
    "X_train = scaler.fit_transform(X_train)\n",
    "X_test = scaler.transform(X_test)\n",
    "\n",
    "# Define the parameter grid to search for Logistic Regression\n",
    "param_grid = {\n",
    "    'C': [10],\n",
    "    'max_iter': [1000],\n",
    "    'penalty': ['l2'],\n",
    "}\n",
    "\n",
    "# Create a Logistic Regression classifier\n",
    "logreg = LogisticRegression(random_state=42)\n",
    "\n",
    "# Create the GridSearchCV object\n",
    "grid_search = GridSearchCV(logreg, param_grid, cv=3, verbose=3, scoring='accuracy', n_jobs=-1)\n",
    "\n",
    "# Fit the GridSearchCV object to the data\n",
    "grid_search.fit(X_train, y_train)\n",
    "\n",
    "# Get the best parameters and the corresponding model\n",
    "best_params = grid_search.best_params_\n",
    "best_model = grid_search.best_estimator_\n",
    "\n",
    "print(best_model.n_iter_)\n",
    "print(best_model.get_params)\n",
    "\n",
    "# Make predictions on the test set using the best model\n",
    "predictions = best_model.predict(X_test)\n",
    "\n",
    "# Evaluate the best model\n",
    "accuracy = accuracy_score(y_test, predictions)\n",
    "report = classification_report(y_test, predictions)\n",
    "\n",
    "print('Best Parameters:', best_params)\n",
    "print(f'Best Model Accuracy: {accuracy}')\n",
    "# print('Classification Report:\\n', report)\n"
   ]
  },
  {
   "cell_type": "code",
   "execution_count": null,
   "metadata": {},
   "outputs": [],
   "source": []
  }
 ],
 "metadata": {
  "kernelspec": {
   "display_name": "Python 3",
   "language": "python",
   "name": "python3"
  },
  "language_info": {
   "codemirror_mode": {
    "name": "ipython",
    "version": 3
   },
   "file_extension": ".py",
   "mimetype": "text/x-python",
   "name": "python",
   "nbconvert_exporter": "python",
   "pygments_lexer": "ipython3",
   "version": "3.11.7"
  }
 },
 "nbformat": 4,
 "nbformat_minor": 2
}
