{
 "cells": [
  {
   "cell_type": "code",
   "execution_count": 1,
   "metadata": {},
   "outputs": [],
   "source": [
    "import numpy as np\n",
    "from sklearn.linear_model import LogisticRegression\n",
    "from sklearn.preprocessing import maxabs_scale\n",
    "from sklearn.model_selection import train_test_split\n",
    "from sklearn.metrics import accuracy_score\n",
    "from imblearn.over_sampling import RandomOverSampler\n",
    "from imblearn.under_sampling import RandomUnderSampler\n",
    "import matplotlib.pyplot as plt\n",
    "from sklearn.base import clone\n",
    "from matplotlib import colors\n",
    "import copy"
   ]
  },
  {
   "cell_type": "code",
   "execution_count": 2,
   "metadata": {},
   "outputs": [],
   "source": [
    "path = \"../features/\"\n",
    "names = [\"betweenness\", \"community_count\", \"community_size\", \"ks_level_1\", \"ks_level_2\"]\n",
    "used_names = [\"ks_level_1\", \"ks_level_2\"]\n",
    "np.random.seed(42)\n",
    "samples_per_class = 35\n",
    "model = LogisticRegression(random_state=42)"
   ]
  },
  {
   "cell_type": "code",
   "execution_count": 3,
   "metadata": {},
   "outputs": [],
   "source": [
    "# Load features from .npz files\n",
    "original_labels = np.load(path + names[0] + \".npz\")['y']\n",
    "original_features = np.load(path + names[0] + \".npz\")['X']\n",
    "columns = []\n",
    "for filename in names:\n",
    "    file_path = path + filename + \".npz\"\n",
    "    data = np.load(file_path)\n",
    "    feature_matrix = maxabs_scale(data['X'], axis=1)\n",
    "    columns.append(feature_matrix.shape[1])\n",
    "    original_features = np.concatenate((original_features, feature_matrix), axis=1)\n",
    "\n",
    "# Over-sample\n",
    "original_samples_per_class = {label: np.sum(original_labels == label) for label in np.unique(original_labels)}\n",
    "sampling_strategy = {label: max(samples_per_class, original_samples) for label, original_samples in original_samples_per_class.items()}\n",
    "ros = RandomOverSampler(random_state=42, sampling_strategy=sampling_strategy)\n",
    "oversampled_features, oversampled_labels = ros.fit_resample(original_features, original_labels)\n",
    "# Under-sample\n",
    "updated_samples_per_class = {label: np.sum(oversampled_labels == label) for label in np.unique(original_labels)}\n",
    "sampling_strategy = {label: min(samples_per_class, original_samples) for label, original_samples in updated_samples_per_class.items()}\n",
    "rus = RandomUnderSampler(random_state=42, sampling_strategy=sampling_strategy)\n",
    "undersampled_features, labels = rus.fit_resample(oversampled_features, oversampled_labels)\n",
    "\n",
    "# Build features list\n",
    "all_features = []\n",
    "current = 0\n",
    "for c in columns:\n",
    "    feature = undersampled_features[:, current:current + c]\n",
    "    all_features.append(feature)\n",
    "    current += c"
   ]
  },
  {
   "cell_type": "code",
   "execution_count": 4,
   "metadata": {},
   "outputs": [],
   "source": [
    "# # set thresholds as hyperparameters\n",
    "# L1_threshold = thr_data[:, 0].mean()*0.5\n",
    "# L2_threshold = 8"
   ]
  },
  {
   "cell_type": "code",
   "execution_count": 5,
   "metadata": {},
   "outputs": [],
   "source": [
    "# # Feature selection based on a specific criterion\n",
    "\n",
    "# # Compute the threshold\n",
    "# threshold_feature = \"ks_level_1\"\n",
    "\n",
    "# thr_data = features[names.index(threshold_feature)]\n",
    "\n",
    "# percentiles = np.percentile(np.mean(thr_data, axis=0), np.linspace(50, 0, 2))\n",
    "\n",
    "# accuracies_filt = []\n",
    "# percentages = []\n",
    "# for perc in percentiles:\n",
    "#     filtered_coefficients = np.where(np.mean(thr_data, axis=0) > perc)[0]\n",
    "#     if filtered_coefficients.size == 0:\n",
    "#         continue\n",
    "#     X = np.hstack([f[:, filtered_coefficients] if f.shape[1] >= filtered_coefficients.max() + 1 else f for f in features])\n",
    "#     data_percentage = filtered_coefficients.shape[0]/thr_data.shape[1]\n",
    "\n",
    "#     # Perform logistic regression and compute accuracy\n",
    "#     X_train, X_test, y_train, y_test = train_test_split(X, labels, test_size=0.2, random_state=42, stratify=labels)\n",
    "#     model_ = clone(model)\n",
    "#     model_.fit(X_train, y_train)\n",
    "#     y_pred = model_.predict(X_test)\n",
    "#     accuracy = accuracy_score(y_test, y_pred)\n",
    "\n",
    "#     print(f\"Accuracy = {accuracy*100:4.2f}; retained features = {data_percentage*100:4.2f}%\")\n",
    "#     accuracies_filt.append(accuracy)\n",
    "#     percentages.append(data_percentage)"
   ]
  },
  {
   "cell_type": "code",
   "execution_count": 6,
   "metadata": {},
   "outputs": [],
   "source": [
    "def evaluate(X):\n",
    "    # Perform logistic regression and compute accuracy\n",
    "    X_train, X_test, y_train, y_test = train_test_split(X, labels, test_size=0.2, random_state=42, stratify=labels)\n",
    "    model_ = clone(model)\n",
    "    model_.fit(X_train, y_train)\n",
    "    y_pred = model_.predict(X_test)\n",
    "    return accuracy_score(y_test, y_pred)"
   ]
  },
  {
   "cell_type": "code",
   "execution_count": 7,
   "metadata": {},
   "outputs": [],
   "source": [
    "ks1 = all_features[names.index(\"ks_level_1\")]\n",
    "ks2 = all_features[names.index(\"ks_level_2\")]\n",
    "features = [all_features[names.index(f)] for f in used_names]\n",
    "\n",
    "l1_perc = np.percentile(np.mean(ks1, axis=0), 50)\n",
    "l2_perc = np.percentile(np.mean(ks2, axis=0), 50)\n"
   ]
  },
  {
   "cell_type": "code",
   "execution_count": 8,
   "metadata": {},
   "outputs": [
    {
     "name": "stdout",
     "output_type": "stream",
     "text": [
      "Class 1 accuracy = 17.76%; retained features = 21.87%\n",
      "Class 2 accuracy = 1.57%; retained features = 0.08%\n",
      "Class 3 accuracy = 1.68%; retained features = 0.08%\n",
      "Class 4 accuracy = 80.35%; retained features = 21.87%\n"
     ]
    }
   ],
   "source": [
    "\n",
    "# class 1: ks[:,0] < L1_threshold and ks[:,1] < L2_threshold\n",
    "filtered_coefficients = np.where((np.mean(ks1, axis=0) < l1_perc) & (np.mean(ks2, axis=0) < l2_perc))[0]\n",
    "if filtered_coefficients.size > 0:\n",
    "    X = np.hstack([f[:, filtered_coefficients] if f.shape[1] >= filtered_coefficients.max() + 1 else f for f in features])\n",
    "    accuracy = evaluate(X)\n",
    "    data_percentage = (filtered_coefficients.shape[0]/ks1.shape[1])*(filtered_coefficients.shape[0]/ks2.shape[1])\n",
    "    print(f\"Class 1 accuracy = {accuracy*100:4.2f}%; retained features = {data_percentage*100:4.2f}%\")\n",
    "\n",
    "# class 2: ks[:,0] < L1_threshold and ks[:,1] > L2_threshold\n",
    "filtered_coefficients = np.where((np.mean(ks1, axis=0) < l1_perc) & (np.mean(ks2, axis=0) > l2_perc))[0]\n",
    "if filtered_coefficients.size > 0:\n",
    "    X = np.hstack([f[:, filtered_coefficients] if f.shape[1] >= filtered_coefficients.max() + 1 else f for f in features])\n",
    "    accuracy = evaluate(X)\n",
    "    data_percentage = (filtered_coefficients.shape[0]/ks1.shape[1])*(filtered_coefficients.shape[0]/ks2.shape[1])\n",
    "    print(f\"Class 2 accuracy = {accuracy*100:4.2f}%; retained features = {data_percentage*100:4.2f}%\")\n",
    "\n",
    "# class 3: ks[:,0] > L1_threshold and ks[:,1] < L2_threshold\n",
    "filtered_coefficients = np.where((np.mean(ks1, axis=0) > l1_perc) & (np.mean(ks2, axis=0) < l2_perc))[0]\n",
    "if filtered_coefficients.size > 0:\n",
    "    X = np.hstack([f[:, filtered_coefficients] if f.shape[1] >= filtered_coefficients.max() + 1 else f for f in features])\n",
    "    accuracy = evaluate(X)\n",
    "    data_percentage = (filtered_coefficients.shape[0]/ks1.shape[1])*(filtered_coefficients.shape[0]/ks2.shape[1])\n",
    "    print(f\"Class 3 accuracy = {accuracy*100:4.2f}%; retained features = {data_percentage*100:4.2f}%\")\n",
    "\n",
    "# class 4: ks[:,0] > L1_threshold and ks[:,1] > L2_threshold\n",
    "filtered_coefficients = np.where((np.mean(ks1, axis=0) > l1_perc) & (np.mean(ks2, axis=0) > l2_perc))[0]\n",
    "if filtered_coefficients.size > 0:\n",
    "    X = np.hstack([f[:, filtered_coefficients] if f.shape[1] >= filtered_coefficients.max() + 1 else f for f in features])\n",
    "    accuracy = evaluate(X)\n",
    "    data_percentage = (filtered_coefficients.shape[0]/ks1.shape[1])*(filtered_coefficients.shape[0]/ks2.shape[1])\n",
    "    print(f\"Class 4 accuracy = {accuracy*100:4.2f}%; retained features = {data_percentage*100:4.2f}%\")"
   ]
  }
 ],
 "metadata": {
  "kernelspec": {
   "display_name": "FDS",
   "language": "python",
   "name": "python3"
  },
  "language_info": {
   "codemirror_mode": {
    "name": "ipython",
    "version": 3
   },
   "file_extension": ".py",
   "mimetype": "text/x-python",
   "name": "python",
   "nbconvert_exporter": "python",
   "pygments_lexer": "ipython3",
   "version": "3.11.5"
  }
 },
 "nbformat": 4,
 "nbformat_minor": 2
}
