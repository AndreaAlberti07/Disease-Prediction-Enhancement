{
 "cells": [
  {
   "cell_type": "code",
   "execution_count": 1,
   "metadata": {},
   "outputs": [],
   "source": [
    "import numpy as np\n",
    "from sklearn.linear_model import LogisticRegression\n",
    "from sklearn.model_selection import train_test_split\n",
    "from sklearn.metrics import accuracy_score, confusion_matrix\n",
    "from imblearn.over_sampling import RandomOverSampler\n",
    "from imblearn.under_sampling import RandomUnderSampler\n",
    "import matplotlib.pyplot as plt\n",
    "import joblib as jl"
   ]
  },
  {
   "cell_type": "code",
   "execution_count": 11,
   "metadata": {},
   "outputs": [],
   "source": [
    "path = \"../features/normalized/\"\n",
    "names = [\"betweenness\", \"community_count\", \"community_size\", \"ks_level_1\", \"ks_level_2\"]\n",
    "used_names = [\"community_size\", \"community_count\", \"ks_level_2\"]\n",
    "np.random.seed(42)\n",
    "samples_per_class = 35\n",
    "model = LogisticRegression( C= 1.5,\n",
    "                            max_iter= 1000,\n",
    "                            penalty= 'l2',\n",
    "                            solver= 'lbfgs',\n",
    "                            random_state=42)"
   ]
  },
  {
   "cell_type": "code",
   "execution_count": 3,
   "metadata": {},
   "outputs": [],
   "source": [
    "# Load features from .npz files\n",
    "original_labels = np.load(path + names[0] + \"_norm.npz\")['y']\n",
    "original_features = np.load(path + names[0] + \"_norm.npz\")['X']\n",
    "columns = [original_features.shape[1]]\n",
    "for filename in names[1:]:\n",
    "    file_path = path + filename + \"_norm.npz\"\n",
    "    data = np.load(file_path)\n",
    "    feature_matrix = data['X']\n",
    "    columns.append(feature_matrix.shape[1])\n",
    "    original_features = np.concatenate((original_features, feature_matrix), axis=1)\n",
    "\n",
    "# Over-sample\n",
    "original_samples_per_class = {label: np.sum(original_labels == label) for label in np.unique(original_labels)}\n",
    "sampling_strategy = {label: max(samples_per_class, original_samples) for label, original_samples in original_samples_per_class.items()}\n",
    "ros = RandomOverSampler(random_state=42, sampling_strategy=sampling_strategy)\n",
    "oversampled_features, oversampled_labels = ros.fit_resample(original_features, original_labels)\n",
    "# Under-sample\n",
    "updated_samples_per_class = {label: np.sum(oversampled_labels == label) for label in np.unique(original_labels)}\n",
    "sampling_strategy = {label: min(samples_per_class, original_samples) for label, original_samples in updated_samples_per_class.items()}\n",
    "rus = RandomUnderSampler(random_state=42, sampling_strategy=sampling_strategy)\n",
    "undersampled_features, labels = rus.fit_resample(oversampled_features, oversampled_labels)\n",
    "\n",
    "# Build features list\n",
    "all_features = []\n",
    "current = 0\n",
    "for c in columns:\n",
    "    feature = undersampled_features[:, current:current + c]\n",
    "    all_features.append(feature)\n",
    "    current += c"
   ]
  },
  {
   "cell_type": "code",
   "execution_count": 5,
   "metadata": {},
   "outputs": [],
   "source": [
    "# Filter indices\n",
    "ks1 = all_features[names.index(\"ks_level_1\")]\n",
    "ks2 = all_features[names.index(\"ks_level_2\")]\n",
    "features = [all_features[names.index(f)] for f in used_names]\n",
    "\n",
    "# Filter l1\n",
    "l1_thr = np.percentile(np.mean(ks1, axis=0), 50)\n",
    "\n",
    "# Filter l2 based on l1\n",
    "l1_filtered_coefficients_low = np.where(np.mean(ks1, axis=0) < l1_thr)[0]\n",
    "l1_filtered_coefficients_high = np.where(np.mean(ks1, axis=0) > l1_thr)[0]\n",
    "\n",
    "l2_thr_low = np.percentile(np.mean(ks2[:, l1_filtered_coefficients_low], axis=0), 50) \n",
    "l2_thr_high = np.percentile(np.mean(ks2[:, l1_filtered_coefficients_high], axis=0), 50)  "
   ]
  },
  {
   "cell_type": "code",
   "execution_count": 7,
   "metadata": {},
   "outputs": [],
   "source": [
    "def evaluate(X):\n",
    "    # Perform logistic regression and compute accuracy\n",
    "    X_train, X_test, y_train, y_test = train_test_split(X, labels, test_size=0.2, random_state=42, stratify=labels)\n",
    "    model.fit(X_train, y_train)\n",
    "    y_pred = model.predict(X_test)\n",
    "    conf_matrix = confusion_matrix(y_test, y_pred)\n",
    "    return accuracy_score(y_test, y_pred), conf_matrix"
   ]
  },
  {
   "cell_type": "code",
   "execution_count": 8,
   "metadata": {},
   "outputs": [],
   "source": [
    "# Define a function to filter and evaluate data for each class\n",
    "def filter_and_evaluate(condition):\n",
    "    filtered_coefficients = np.where(condition)[0]\n",
    "    if filtered_coefficients.size > 0:\n",
    "        X = np.hstack([f[:, filtered_coefficients] if f.shape[1] >= filtered_coefficients.max() + 1 else f for f in features])\n",
    "        accuracy, conf_matrix = evaluate(X)\n",
    "        data_percentage = (filtered_coefficients.shape[0] / all_features[names.index(\"ks_level_1\")].shape[1])\n",
    "        return accuracy, data_percentage, conf_matrix\n",
    "    else:\n",
    "        return 0, 0, None"
   ]
  },
  {
   "cell_type": "code",
   "execution_count": 12,
   "metadata": {},
   "outputs": [
    {
     "name": "stdout",
     "output_type": "stream",
     "text": [
      "Class Low-Low: accuracy = 9.70%; retained features = 24.92%\n",
      "Class Low-High: accuracy = 18.11%; retained features = 24.92%\n",
      "Class High-Low: accuracy = 33.17%; retained features = 25.23%\n",
      "Class High-High: accuracy = 61.19%; retained features = 24.92%\n"
     ]
    },
    {
     "data": {
      "image/png": "[encoded data removed]",
      "text/plain": [
       "<Figure size 1000x500 with 1 Axes>"
      ]
     },
     "metadata": {},
     "output_type": "display_data"
    }
   ],
   "source": [
    "# Class evaluation\n",
    "classes = ['Low-Low', 'Low-High', 'High-Low', 'High-High']\n",
    "accuracies = []\n",
    "\n",
    "for condition, class_name in zip([(np.mean(ks1, axis=0) < l1_thr) & (np.mean(ks2, axis=0) < l2_thr_low),\n",
    "                                  (np.mean(ks1, axis=0) < l1_thr) & (np.mean(ks2, axis=0) >= l2_thr_low),\n",
    "                                  (np.mean(ks1, axis=0) >= l1_thr) & (np.mean(ks2, axis=0) < l2_thr_high),\n",
    "                                  (np.mean(ks1, axis=0) >= l1_thr) & (np.mean(ks2, axis=0) >= l2_thr_high)],\n",
    "                                 classes):\n",
    "    accuracy, data_percentage, conf_matrix = filter_and_evaluate(condition)\n",
    "    print(f\"Class {class_name}: accuracy = {accuracy*100:4.2f}%; retained features = {data_percentage*100:4.2f}%\")\n",
    "    if conf_matrix is not None:\n",
    "        conf_matrix_percent = conf_matrix / np.sum(conf_matrix, axis=1, keepdims=True)\n",
    "        class_accuracy = np.diag(conf_matrix_percent)\n",
    "        accuracies.append(class_accuracy)\n",
    "\n",
    "# Plotting\n",
    "plt.figure(figsize=(10, 5))\n",
    "plt.hist(accuracies, bins=5, label=classes)\n",
    "plt.xlabel('Class-wise Accuracy')\n",
    "plt.ylabel('Frequency')\n",
    "plt.title('Histogram of Class-wise Accuracies')\n",
    "plt.legend()\n",
    "plt.show()\n"
   ]
  },
  {
   "cell_type": "code",
   "execution_count": 13,
   "metadata": {},
   "outputs": [
    {
     "name": "stdout",
     "output_type": "stream",
     "text": [
      "Percentiles --> 60% of L1 and 60% of L2; Accuracy = 73.99%; Retained features = 36.00%\n",
      "Percentiles --> 70% of L1 and 70% of L2; Accuracy = 81.84%; Retained features = 48.92%\n",
      "Percentiles --> 75% of L1 and 70% of L2; Accuracy = 83.54%; Retained features = 52.31%\n",
      "Percentiles --> 75% of L1 and 75% of L2; Accuracy = 84.84%; Retained features = 56.00%\n",
      "Percentiles --> 80% of L1 and 75% of L2; Accuracy = 85.70%; Retained features = 60.00%\n",
      "Percentiles --> 80% of L1 and 80% of L2; Accuracy = 86.23%; Retained features = 64.00%\n",
      "Percentiles --> 85% of L1 and 80% of L2; Accuracy = 86.99%; Retained features = 67.69%\n",
      "Percentiles --> 85% of L1 and 85% of L2; Accuracy = 87.83%; Retained features = 71.69%\n",
      "Percentiles --> 90% of L1 and 85% of L2; Accuracy = 88.24%; Retained features = 76.00%\n",
      "Percentiles --> 90% of L1 and 90% of L2; Accuracy = 88.77%; Retained features = 80.92%\n",
      "Percentiles --> 95% of L1 and 90% of L2; Accuracy = 88.88%; Retained features = 84.00%\n",
      "Percentiles --> 95% of L1 and 95% of L2; Accuracy = 88.98%; Retained features = 89.23%\n"
     ]
    }
   ],
   "source": [
    "percentiles1 = [40, 30, 25, 25, 20, 20, 15, 15, 10, 10, 5, 5]\n",
    "percentiles2 = [40, 30, 30, 25, 25, 20, 20, 15, 15, 10, 10, 5]\n",
    "accuracies = []\n",
    "data_percentages = []\n",
    "\n",
    "for p1, p2 in zip(percentiles1, percentiles2):\n",
    "    l1_thr = np.percentile(np.mean(ks1, axis=0), p1)\n",
    "    l1_filtered_coefficients = np.where(np.mean(ks1, axis=0) > l1_thr)[0]\n",
    "    l2_thr = np.percentile(np.mean(ks2[:, l1_filtered_coefficients], axis=0), p2) \n",
    "    accuracy, data_percentage, _ = filter_and_evaluate((np.mean(ks1, axis=0) >= l1_thr) & (np.mean(ks2, axis=0) >= l2_thr))\n",
    "    accuracies.append(accuracy)\n",
    "    data_percentages.append(data_percentage)\n",
    "    print(f\"Percentiles --> {100-p1}% of L1 and {100-p2}% of L2; Accuracy = {accuracy*100:4.2f}%; Retained features = {data_percentage*100:4.2f}%\")"
   ]
  },
  {
   "cell_type": "code",
   "execution_count": 14,
   "metadata": {},
   "outputs": [
    {
     "name": "stdout",
     "output_type": "stream",
     "text": [
      "Max accuracy = 88.98% (retaining all features)\n"
     ]
    }
   ],
   "source": [
    "# Compute the max accuracy\n",
    "X = np.hstack([f for f in features])\n",
    "max_accuracy = evaluate(X)[0]\n",
    "print(f\"Max accuracy = {accuracy*100:4.2f}% (retaining all features)\")\n",
    "# Append data\n",
    "accuracies.append(max_accuracy)\n",
    "data_percentages.append(1)"
   ]
  },
  {
   "cell_type": "code",
   "execution_count": 15,
   "metadata": {},
   "outputs": [
    {
     "data": {
      "image/png": "[encoded data removed]",
      "text/plain": [
       "<Figure size 640x480 with 1 Axes>"
      ]
     },
     "metadata": {},
     "output_type": "display_data"
    }
   ],
   "source": [
    "# Plot accuracies for each model\n",
    "plt.plot(np.array(data_percentages)*100, np.array(accuracies)*100, marker='o')\n",
    "plt.axhline(y=accuracies[-1]*100, color='r', linestyle='--', label='')\n",
    "plt.plot(100, accuracies[-1]*100, color='r', marker='o')\n",
    "plt.xlabel('Percentage of features retained')\n",
    "plt.ylabel('Accuracy')\n",
    "plt.ylim(0, 100)\n",
    "plt.xlim(30, 101)\n",
    "plt.title('Accuracy vs. Feature percentage')\n",
    "plt.show()"
   ]
  },
  {
   "cell_type": "markdown",
   "metadata": {},
   "source": [
    "# Build the reduced features model"
   ]
  },
  {
   "cell_type": "code",
   "execution_count": null,
   "metadata": {},
   "outputs": [],
   "source": [
    "# Load the bigger dataset\n",
    "samples_per_class = 300"
   ]
  },
  {
   "cell_type": "code",
   "execution_count": 16,
   "metadata": {},
   "outputs": [],
   "source": [
    "# Load features from .npz files\n",
    "original_labels = np.load(path + names[0] + \"_norm.npz\")['y']\n",
    "original_features = np.load(path + names[0] + \"_norm.npz\")['X']\n",
    "columns = [original_features.shape[1]]\n",
    "for filename in names[1:]:\n",
    "    file_path = path + filename + \"_norm.npz\"\n",
    "    data = np.load(file_path)\n",
    "    feature_matrix = data['X']\n",
    "    columns.append(feature_matrix.shape[1])\n",
    "    original_features = np.concatenate((original_features, feature_matrix), axis=1)\n",
    "\n",
    "# Over-sample\n",
    "original_samples_per_class = {label: np.sum(original_labels == label) for label in np.unique(original_labels)}\n",
    "sampling_strategy = {label: max(samples_per_class, original_samples) for label, original_samples in original_samples_per_class.items()}\n",
    "ros = RandomOverSampler(random_state=42, sampling_strategy=sampling_strategy)\n",
    "oversampled_features, oversampled_labels = ros.fit_resample(original_features, original_labels)\n",
    "# Under-sample\n",
    "updated_samples_per_class = {label: np.sum(oversampled_labels == label) for label in np.unique(original_labels)}\n",
    "sampling_strategy = {label: min(samples_per_class, original_samples) for label, original_samples in updated_samples_per_class.items()}\n",
    "rus = RandomUnderSampler(random_state=42, sampling_strategy=sampling_strategy)\n",
    "undersampled_features, labels = rus.fit_resample(oversampled_features, oversampled_labels)\n",
    "\n",
    "# Build features list\n",
    "all_features = []\n",
    "current = 0\n",
    "for c in columns:\n",
    "    feature = undersampled_features[:, current:current + c]\n",
    "    all_features.append(feature)\n",
    "    current += c"
   ]
  },
  {
   "cell_type": "code",
   "execution_count": 20,
   "metadata": {},
   "outputs": [
    {
     "data": {
      "text/plain": [
       "['../models/log_reg_mix_full_data_norm_correct.joblib']"
      ]
     },
     "execution_count": 20,
     "metadata": {},
     "output_type": "execute_result"
    }
   ],
   "source": [
    "# Filter indices\n",
    "ks1 = all_features[names.index(\"ks_level_1\")]\n",
    "ks2 = all_features[names.index(\"ks_level_2\")]\n",
    "features = [all_features[names.index(f)] for f in used_names]\n",
    "\n",
    "# Train the reduced model\n",
    "l1_thr = np.percentile(np.mean(ks1, axis=0), 15)\n",
    "l1_filtered_coefficients = np.where(np.mean(ks1, axis=0) > l1_thr)[0]\n",
    "l2_thr = np.percentile(np.mean(ks2[:, l1_filtered_coefficients], axis=0), 15) \n",
    "\n",
    "filtered_coefficients = np.where((np.mean(ks1, axis=0) >= l1_thr) & (np.mean(ks2, axis=0) >= l2_thr))[0]\n",
    "X = np.hstack([f[:, filtered_coefficients] if f.shape[1] >= filtered_coefficients.max() + 1 else f for f in features])\n",
    "data_percentage = (filtered_coefficients.shape[0] / all_features[names.index(\"ks_level_1\")].shape[1])\n",
    "X_train, X_test, y_train, y_test = train_test_split(X, labels, test_size=0.2, random_state=42, stratify=labels)\n",
    "LRmodel = model.fit(X_train, y_train)\n",
    "jl.dump(LRmodel, \"../models/log_reg_norm_reduced8585.joblib\")\n",
    "# Time for base = 9m 16s        653 features\n",
    "# Time for reduced = 8m 41s     471 / 653 = 0.7212"
   ]
  },
  {
   "cell_type": "markdown",
   "metadata": {},
   "source": [
    "## Comparison with the original (WIP)"
   ]
  },
  {
   "cell_type": "code",
   "execution_count": null,
   "metadata": {},
   "outputs": [],
   "source": [
    "import time\n",
    "from sklearn.metrics import precision_score, recall_score, accuracy_score, roc_auc_score\n",
    "\n",
    "# Sample models (replace with your actual models)\n",
    "full_model = jl.load(\"../models/log_reg_mix_full_data_norm_correct.joblib\")\n",
    "reduced_model = jl.load(\"../models/log_reg_norm_reduced8585.joblib\")"
   ]
  },
  {
   "cell_type": "code",
   "execution_count": null,
   "metadata": {},
   "outputs": [],
   "source": [
    "# Load features from .npz files\n",
    "labels = np.load(path + names[0] + \"_norm.npz\")['y']\n",
    "original_features = np.load(path + names[0] + \"_norm.npz\")['X']\n",
    "columns = [original_features.shape[1]]\n",
    "for filename in names[1:]:\n",
    "    file_path = path + filename + \"_norm.npz\"\n",
    "    data = np.load(file_path)\n",
    "    feature_matrix = data['X']\n",
    "    columns.append(feature_matrix.shape[1])\n",
    "    original_features = np.concatenate((original_features, feature_matrix), axis=1)\n",
    "\n",
    "# Build features list\n",
    "all_features = []\n",
    "current = 0\n",
    "for c in columns:\n",
    "    feature = undersampled_features[:, current:current + c]\n",
    "    all_features.append(feature)\n",
    "    current += c"
   ]
  },
  {
   "cell_type": "code",
   "execution_count": null,
   "metadata": {},
   "outputs": [],
   "source": [
    "# Prepare test data\n",
    "ks1 = all_features[names.index(\"ks_level_1\")]\n",
    "ks2 = all_features[names.index(\"ks_level_2\")]\n",
    "features = [all_features[names.index(f)] for f in used_names]\n",
    "l1_thr = np.percentile(np.mean(ks1, axis=0), 15)\n",
    "l1_filtered_coefficients = np.where(np.mean(ks1, axis=0) > l1_thr)[0]\n",
    "l2_thr = np.percentile(np.mean(ks2[:, l1_filtered_coefficients], axis=0), 15) \n",
    "filtered_coefficients = np.where((np.mean(ks1, axis=0) >= l1_thr) & (np.mean(ks2, axis=0) >= l2_thr))[0]\n",
    "\n",
    "X_test2 = np.hstack([f[:, filtered_coefficients] if f.shape[1] >= filtered_coefficients.max() + 1 else f for f in features])\n",
    "\n",
    "X_test1 = np.hstack([f for f in features])\n",
    "\n",
    "y_test = labels"
   ]
  },
  {
   "cell_type": "code",
   "execution_count": null,
   "metadata": {},
   "outputs": [],
   "source": [
    "\n",
    "\n",
    "# Predictions for each model\n",
    "predictions1 = full_model.predict(X_test1)\n",
    "predictions2 = reduced_model.predict(X_test2)\n",
    "\n",
    "# Calculate metrics for Model 1\n",
    "precision1 = precision_score(y_test, predictions1)\n",
    "recall1 = recall_score(y_test, predictions1)\n",
    "accuracy1 = accuracy_score(y_test, predictions1)\n",
    "auc1 = roc_auc_score(y_test, predictions1)\n",
    "\n",
    "# Calculate metrics for Model 2\n",
    "precision2 = precision_score(y_test, predictions2)\n",
    "recall2 = recall_score(y_test, predictions2)\n",
    "accuracy2 = accuracy_score(y_test, predictions2)\n",
    "auc2 = roc_auc_score(y_test, predictions2)\n"
   ]
  },
  {
   "cell_type": "code",
   "execution_count": null,
   "metadata": {},
   "outputs": [],
   "source": [
    "metrics1 = [precision1, recall1, auc1, accuracy1]\n",
    "metrics2 = [precision2, recall2, auc2, accuracy2]\n",
    "labels = ['Precision', 'Recall', 'AUC', 'Accuracy']\n",
    "\n",
    "plt.figure(figsize=(10, 6))\n",
    "\n",
    "# Create subplots for each metric\n",
    "for i in range(4):\n",
    "    plt.subplot(2, 2, i+1)\n",
    "    plt.bar(['Model 1', 'Model 2'], [metrics1[i], metrics2[i]])\n",
    "    plt.title(labels[i])\n",
    "    plt.ylim(0, 1)\n",
    "\n",
    "plt.tight_layout()\n",
    "plt.show()"
   ]
  },
  {
   "cell_type": "code",
   "execution_count": null,
   "metadata": {},
   "outputs": [],
   "source": [
    "# Plotting the complexity metrics\n",
    "plt.figure(figsize=(10, 4))\n",
    "\n",
    "# Number of features\n",
    "plt.subplot(1, 2, 1)\n",
    "plt.bar(['Model 1', 'Model 2'], [653, 471])\n",
    "plt.title('Number of Features')\n",
    "\n",
    "# Training time\n",
    "plt.subplot(1, 2, 2)\n",
    "plt.bar(['Model 1', 'Model 2'], [training_time_model1, training_time_model2])\n",
    "plt.title('Training Time (seconds)')\n",
    "\n",
    "plt.tight_layout()\n",
    "plt.show()\n"
   ]
  }
 ],
 "metadata": {
  "kernelspec": {
   "display_name": "FDS",
   "language": "python",
   "name": "python3"
  },
  "language_info": {
   "codemirror_mode": {
    "name": "ipython",
    "version": 3
   },
   "file_extension": ".py",
   "mimetype": "text/x-python",
   "name": "python",
   "nbconvert_exporter": "python",
   "pygments_lexer": "ipython3",
   "version": "3.11.5"
  }
 },
 "nbformat": 4,
 "nbformat_minor": 2
}
