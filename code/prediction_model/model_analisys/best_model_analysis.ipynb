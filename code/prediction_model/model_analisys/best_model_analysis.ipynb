{
 "cells": [
  {
   "cell_type": "markdown",
   "metadata": {},
   "source": [
    "# Analyze the performance of the best model\n",
    "Considering that the logistic regression outperformed the other models, and the version with the network feature generalize better with respect to the one-hot encoding one, we take it as best model (logistic regression with network feature)."
   ]
  },
  {
   "cell_type": "code",
   "execution_count": 1,
   "metadata": {},
   "outputs": [],
   "source": [
    "import joblib as jl\n",
    "import numpy as np\n",
    "import pandas as pd\n",
    "import matplotlib.pyplot as plt\n",
    "import seaborn as sns\n",
    "from sklearn.metrics import confusion_matrix\n",
    "from sklearn.preprocessing import maxabs_scale"
   ]
  },
  {
   "cell_type": "markdown",
   "metadata": {},
   "source": [
    "## Load model and Dataset"
   ]
  },
  {
   "cell_type": "code",
   "execution_count": 2,
   "metadata": {},
   "outputs": [],
   "source": [
    "# Load the models\n",
    "modelPath = \"../models/log_reg_mix.joblib\"\n",
    "model = jl.load(modelPath)\n",
    "\n",
    "dataPath = \"../features/LR_mix_full_data.npz\"\n",
    "data = np.load(dataPath)\n",
    "\n",
    "\n",
    "# Load the data\n",
    "path = \"../features/\"\n",
    "data_names = [\"symptoms\", \"betweenness\", \"community_count\", \"community_size\"]\n",
    "\n",
    "symptoms = np.load(path + data_names[0] + \".npz\")\n",
    "betweenness = np.load(path + data_names[1] + \".npz\")\n",
    "community_count = np.load(path + data_names[2] + \".npz\")\n",
    "community_size = np.load(path + data_names[3] + \".npz\")\n",
    "data_mix = np.concatenate(\n",
    "    (\n",
    "        betweenness[\"X\"],\n",
    "        community_count[\"X\"],\n",
    "        community_size[\"X\"],\n",
    "        community_count[\"y\"].reshape(symptoms[\"y\"].shape[0], 1),\n",
    "    ),\n",
    "    axis=1,\n",
    ")\n",
    "\n",
    "data_norm = maxabs_scale(data_mix[:, :-1])\n",
    "data = np.concatenate(\n",
    "    (data_norm, data_mix[:, -1].reshape(data_mix[:, -1].shape[0], 1)), axis=1\n",
    ")\n",
    "\n",
    "x = data[:, :-1]\n",
    "y = data[:, -1].astype(int)"
   ]
  },
  {
   "cell_type": "code",
   "execution_count": 3,
   "metadata": {},
   "outputs": [
    {
     "name": "stdout",
     "output_type": "stream",
     "text": [
      "0\n",
      "772\n",
      "246914\n",
      "748\n"
     ]
    }
   ],
   "source": [
    "print(y.min())\n",
    "print(y.max())\n",
    "print(len(y))\n",
    "print(len(np.unique(y)))"
   ]
  },
  {
   "cell_type": "markdown",
   "metadata": {},
   "source": [
    "## Create a 'Mapping' dataframe"
   ]
  },
  {
   "cell_type": "code",
   "execution_count": 4,
   "metadata": {},
   "outputs": [
    {
     "name": "stdout",
     "output_type": "stream",
     "text": [
      "748\n",
      "        Disease_num                 Disease  Degree         L2  Class\n",
      "0               512  fetal alcohol syndrome     5.0  33.400000      1\n",
      "1               512  fetal alcohol syndrome     5.0  33.400000      1\n",
      "2               512  fetal alcohol syndrome     5.0  33.400000      1\n",
      "3               512  fetal alcohol syndrome     5.0  33.400000      1\n",
      "4               512  fetal alcohol syndrome     5.0  33.400000      1\n",
      "...             ...                     ...     ...        ...    ...\n",
      "235641          677  injury to the shoulder    11.0  46.090909      3\n",
      "235642          677  injury to the shoulder    11.0  46.090909      3\n",
      "235643          677  injury to the shoulder    11.0  46.090909      3\n",
      "235644          677  injury to the shoulder    11.0  46.090909      3\n",
      "235645          677  injury to the shoulder    11.0  46.090909      3\n",
      "\n",
      "[235646 rows x 5 columns]\n"
     ]
    }
   ],
   "source": [
    "diseases_info = pd.read_csv(\"../../../dataset/diseases_complete_info.csv\")\n",
    "all_diseases = pd.read_csv(\"../../../dataset/disease_label_mapping.csv\")\n",
    "\n",
    "y_df = pd.DataFrame(y, columns=[\"Disease_num\"])\n",
    "\n",
    "tmp=pd.merge(y_df, all_diseases, on=\"Disease_num\")\n",
    "\n",
    "print(len(tmp[\"Disease\"].unique()))\n",
    "\n",
    "complete_df = pd.merge(tmp, diseases_info, on=\"Disease\")\n",
    "print(complete_df)"
   ]
  },
  {
   "cell_type": "markdown",
   "metadata": {},
   "source": [
    "## Identify missing diseases and remove it from the dataset"
   ]
  },
  {
   "cell_type": "code",
   "execution_count": 5,
   "metadata": {},
   "outputs": [
    {
     "name": "stdout",
     "output_type": "stream",
     "text": [
      "49\n",
      "[12, 32, 34, 47, 57, 58, 80, 95, 111, 115, 131, 138, 141, 154, 155, 157, 158, 162, 181, 287, 292, 300, 314, 316, 334, 340, 376, 377, 388, 397, 404, 419, 424, 450, 463, 534, 561, 565, 591, 599, 607, 621, 650, 667, 702, 705, 747, 758, 767]\n",
      "724\n",
      "(235646, 653) (235646,)\n",
      "        Disease_num                 Disease  Degree         L2  Class\n",
      "0               512  fetal alcohol syndrome     5.0  33.400000      1\n",
      "1               512  fetal alcohol syndrome     5.0  33.400000      1\n",
      "2               512  fetal alcohol syndrome     5.0  33.400000      1\n",
      "3               512  fetal alcohol syndrome     5.0  33.400000      1\n",
      "4               512  fetal alcohol syndrome     5.0  33.400000      1\n",
      "...             ...                     ...     ...        ...    ...\n",
      "235641          677  injury to the shoulder    11.0  46.090909      3\n",
      "235642          677  injury to the shoulder    11.0  46.090909      3\n",
      "235643          677  injury to the shoulder    11.0  46.090909      3\n",
      "235644          677  injury to the shoulder    11.0  46.090909      3\n",
      "235645          677  injury to the shoulder    11.0  46.090909      3\n",
      "\n",
      "[235646 rows x 5 columns]\n"
     ]
    }
   ],
   "source": [
    "missing_disease = []\n",
    "for i in all_diseases[\"Disease_num\"].unique():\n",
    "    if i not in complete_df[\"Disease_num\"].unique():\n",
    "        missing_disease.append(i)\n",
    "\n",
    "print(len(missing_disease))\n",
    "print(missing_disease)\n",
    "\n",
    "\n",
    "mask = ~np.isin(data[:, -1].astype(int), missing_disease)\n",
    "new_data = data[mask]\n",
    "\n",
    "x = new_data[:, :-1]\n",
    "y = new_data[:, -1].astype(int)\n",
    "\n",
    "y_df = pd.DataFrame(y, columns=[\"Disease_num\"])\n",
    "\n",
    "tmp = pd.merge(y_df, all_diseases, on=\"Disease_num\")\n",
    "\n",
    "print(len(tmp[\"Disease\"].unique()))\n",
    "print(x.shape, y.shape)\n",
    "complete_df = pd.merge(tmp, diseases_info, on=\"Disease\")\n",
    "print(complete_df)"
   ]
  },
  {
   "cell_type": "code",
   "execution_count": 6,
   "metadata": {},
   "outputs": [
    {
     "name": "stdout",
     "output_type": "stream",
     "text": [
      "724\n",
      "(235646, 653) (235646,)\n"
     ]
    }
   ],
   "source": [
    "y_class = np.array(complete_df[\"Class\"].astype(int))\n",
    "\n",
    "\n",
    "pred = model.predict(x)\n",
    "\n",
    "pred_df = pd.DataFrame(y, columns=[\"Disease_num\"])\n",
    "tmp = pd.merge(pred_df, all_diseases, on=\"Disease_num\")\n",
    "\n",
    "print(len(tmp[\"Disease\"].unique()))\n",
    "print(x.shape, y.shape)\n",
    "complete_df_pred = pd.merge(tmp, diseases_info, on=\"Disease\")\n",
    "\n",
    "pred_class = np.array(complete_df_pred[\"Class\"].astype(int))"
   ]
  },
  {
   "cell_type": "code",
   "execution_count": 8,
   "metadata": {},
   "outputs": [
    {
     "data": {
      "text/plain": [
       "<Axes: >"
      ]
     },
     "execution_count": 8,
     "metadata": {},
     "output_type": "execute_result"
    },
    {
     "data": {
      "image/png": "[encoded data removed]",
      "text/plain": [
       "<Figure size 640x480 with 2 Axes>"
      ]
     },
     "metadata": {},
     "output_type": "display_data"
    }
   ],
   "source": [
    "conf_matrix = confusion_matrix(y, pred)\n",
    "\n",
    "sns.heatmap(\n",
    "    conf_matrix,\n",
    "    annot=True,\n",
    "    fmt=\"d\",\n",
    "    cmap=\"Blues\",\n",
    "    cbar=True,\n",
    ")"
   ]
  }
 ],
 "metadata": {
  "kernelspec": {
   "display_name": "Python 3",
   "language": "python",
   "name": "python3"
  },
  "language_info": {
   "codemirror_mode": {
    "name": "ipython",
    "version": 3
   },
   "file_extension": ".py",
   "mimetype": "text/x-python",
   "name": "python",
   "nbconvert_exporter": "python",
   "pygments_lexer": "ipython3",
   "version": "3.10.12"
  }
 },
 "nbformat": 4,
 "nbformat_minor": 2
}
