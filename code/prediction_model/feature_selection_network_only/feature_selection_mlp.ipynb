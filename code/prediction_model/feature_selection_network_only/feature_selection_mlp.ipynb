{
 "cells": [
  {
   "cell_type": "markdown",
   "metadata": {},
   "source": [
    "# Step-wise Feature selection (Network only)\n",
    "Forward step-wise selection of the best features to use, following a greedy approach."
   ]
  },
  {
   "cell_type": "code",
   "execution_count": 1,
   "metadata": {},
   "outputs": [],
   "source": [
    "import numpy as np\n",
    "from sklearn.neural_network import MLPClassifier\n",
    "from sklearn.model_selection import train_test_split\n",
    "from sklearn.metrics import accuracy_score\n",
    "from imblearn.over_sampling import RandomOverSampler\n",
    "from imblearn.under_sampling import RandomUnderSampler\n",
    "import matplotlib.pyplot as plt\n",
    "from sklearn.base import clone\n",
    "from matplotlib import colors\n",
    "import copy"
   ]
  },
  {
   "cell_type": "code",
   "execution_count": 2,
   "metadata": {},
   "outputs": [],
   "source": [
    "path = \"../features/normalized/\"\n",
    "names = [\"betweenness\", \"community_count\", \"community_size\", \"ks_level_1\", \"ks_level_2\"]\n",
    "np.random.seed(42)\n",
    "samples_per_class = 35\n",
    "model = MLPClassifier(random_state=42)"
   ]
  },
  {
   "cell_type": "code",
   "execution_count": 3,
   "metadata": {},
   "outputs": [],
   "source": [
    "# Load features from .npz files\n",
    "original_labels = np.load(path + names[0] + \"_norm.npz\")['y']\n",
    "original_features = np.load(path + names[0] + \"_norm.npz\")['X']\n",
    "columns = []\n",
    "for filename in names:\n",
    "    file_path = path + filename + \"_norm.npz\"\n",
    "    data = np.load(file_path)\n",
    "    feature_matrix = data['X']\n",
    "    columns.append(feature_matrix.shape[1])\n",
    "    original_features = np.concatenate((original_features, feature_matrix), axis=1)\n",
    "\n",
    "# Over-sample\n",
    "original_samples_per_class = {label: np.sum(original_labels == label) for label in np.unique(original_labels)}\n",
    "sampling_strategy = {label: max(samples_per_class, original_samples) for label, original_samples in original_samples_per_class.items()}\n",
    "ros = RandomOverSampler(sampling_strategy=sampling_strategy)\n",
    "oversampled_features, oversampled_labels = ros.fit_resample(original_features, original_labels)\n",
    "# Under-sample\n",
    "updated_samples_per_class = {label: np.sum(oversampled_labels == label) for label in np.unique(original_labels)}\n",
    "sampling_strategy = {label: min(samples_per_class, original_samples) for label, original_samples in updated_samples_per_class.items()}\n",
    "rus = RandomUnderSampler(sampling_strategy=sampling_strategy)\n",
    "undersampled_features, labels = rus.fit_resample(oversampled_features, oversampled_labels)\n",
    "\n",
    "# Build features list\n",
    "features = []\n",
    "current = 0\n",
    "for c in columns:\n",
    "    feature = undersampled_features[:, current:current + c]\n",
    "    features.append(feature)\n",
    "    current += c"
   ]
  },
  {
   "cell_type": "code",
   "execution_count": 4,
   "metadata": {},
   "outputs": [
    {
     "name": "stderr",
     "output_type": "stream",
     "text": [
      "c:\\Anaconda\\envs\\FDS\\lib\\site-packages\\sklearn\\neural_network\\_multilayer_perceptron.py:691: ConvergenceWarning: Stochastic Optimizer: Maximum iterations (200) reached and the optimization hasn't converged yet.\n",
      "  warnings.warn(\n"
     ]
    },
    {
     "name": "stdout",
     "output_type": "stream",
     "text": [
      "Model [0][0]: accuracy = 77.67.\n",
      "Model [0][1]: accuracy = 0.76.\n"
     ]
    },
    {
     "name": "stderr",
     "output_type": "stream",
     "text": [
      "c:\\Anaconda\\envs\\FDS\\lib\\site-packages\\sklearn\\neural_network\\_multilayer_perceptron.py:691: ConvergenceWarning: Stochastic Optimizer: Maximum iterations (200) reached and the optimization hasn't converged yet.\n",
      "  warnings.warn(\n"
     ]
    },
    {
     "name": "stdout",
     "output_type": "stream",
     "text": [
      "Model [0][2]: accuracy = 79.35.\n"
     ]
    },
    {
     "name": "stderr",
     "output_type": "stream",
     "text": [
      "c:\\Anaconda\\envs\\FDS\\lib\\site-packages\\sklearn\\neural_network\\_multilayer_perceptron.py:691: ConvergenceWarning: Stochastic Optimizer: Maximum iterations (200) reached and the optimization hasn't converged yet.\n",
      "  warnings.warn(\n"
     ]
    },
    {
     "name": "stdout",
     "output_type": "stream",
     "text": [
      "Model [0][3]: accuracy = 87.83.\n"
     ]
    },
    {
     "name": "stderr",
     "output_type": "stream",
     "text": [
      "c:\\Anaconda\\envs\\FDS\\lib\\site-packages\\sklearn\\neural_network\\_multilayer_perceptron.py:691: ConvergenceWarning: Stochastic Optimizer: Maximum iterations (200) reached and the optimization hasn't converged yet.\n",
      "  warnings.warn(\n"
     ]
    },
    {
     "name": "stdout",
     "output_type": "stream",
     "text": [
      "Model [0][4]: accuracy = 87.18.\n"
     ]
    },
    {
     "name": "stderr",
     "output_type": "stream",
     "text": [
      "c:\\Anaconda\\envs\\FDS\\lib\\site-packages\\sklearn\\neural_network\\_multilayer_perceptron.py:691: ConvergenceWarning: Stochastic Optimizer: Maximum iterations (200) reached and the optimization hasn't converged yet.\n",
      "  warnings.warn(\n"
     ]
    },
    {
     "name": "stdout",
     "output_type": "stream",
     "text": [
      "Model [1][0]: accuracy = 87.78.\n"
     ]
    },
    {
     "name": "stderr",
     "output_type": "stream",
     "text": [
      "c:\\Anaconda\\envs\\FDS\\lib\\site-packages\\sklearn\\neural_network\\_multilayer_perceptron.py:691: ConvergenceWarning: Stochastic Optimizer: Maximum iterations (200) reached and the optimization hasn't converged yet.\n",
      "  warnings.warn(\n"
     ]
    },
    {
     "name": "stdout",
     "output_type": "stream",
     "text": [
      "Model [1][1]: accuracy = 87.89.\n"
     ]
    },
    {
     "name": "stderr",
     "output_type": "stream",
     "text": [
      "c:\\Anaconda\\envs\\FDS\\lib\\site-packages\\sklearn\\neural_network\\_multilayer_perceptron.py:691: ConvergenceWarning: Stochastic Optimizer: Maximum iterations (200) reached and the optimization hasn't converged yet.\n",
      "  warnings.warn(\n"
     ]
    },
    {
     "name": "stdout",
     "output_type": "stream",
     "text": [
      "Model [1][2]: accuracy = 87.78.\n"
     ]
    },
    {
     "name": "stderr",
     "output_type": "stream",
     "text": [
      "c:\\Anaconda\\envs\\FDS\\lib\\site-packages\\sklearn\\neural_network\\_multilayer_perceptron.py:691: ConvergenceWarning: Stochastic Optimizer: Maximum iterations (200) reached and the optimization hasn't converged yet.\n",
      "  warnings.warn(\n"
     ]
    },
    {
     "name": "stdout",
     "output_type": "stream",
     "text": [
      "Model [1][4]: accuracy = 87.72.\n"
     ]
    },
    {
     "name": "stderr",
     "output_type": "stream",
     "text": [
      "c:\\Anaconda\\envs\\FDS\\lib\\site-packages\\sklearn\\neural_network\\_multilayer_perceptron.py:691: ConvergenceWarning: Stochastic Optimizer: Maximum iterations (200) reached and the optimization hasn't converged yet.\n",
      "  warnings.warn(\n"
     ]
    },
    {
     "name": "stdout",
     "output_type": "stream",
     "text": [
      "Model [2][0]: accuracy = 87.66.\n"
     ]
    },
    {
     "name": "stderr",
     "output_type": "stream",
     "text": [
      "c:\\Anaconda\\envs\\FDS\\lib\\site-packages\\sklearn\\neural_network\\_multilayer_perceptron.py:691: ConvergenceWarning: Stochastic Optimizer: Maximum iterations (200) reached and the optimization hasn't converged yet.\n",
      "  warnings.warn(\n"
     ]
    },
    {
     "name": "stdout",
     "output_type": "stream",
     "text": [
      "Model [2][2]: accuracy = 87.76.\n"
     ]
    },
    {
     "name": "stderr",
     "output_type": "stream",
     "text": [
      "c:\\Anaconda\\envs\\FDS\\lib\\site-packages\\sklearn\\neural_network\\_multilayer_perceptron.py:691: ConvergenceWarning: Stochastic Optimizer: Maximum iterations (200) reached and the optimization hasn't converged yet.\n",
      "  warnings.warn(\n"
     ]
    },
    {
     "name": "stdout",
     "output_type": "stream",
     "text": [
      "Model [2][4]: accuracy = 87.80.\n"
     ]
    },
    {
     "name": "stderr",
     "output_type": "stream",
     "text": [
      "c:\\Anaconda\\envs\\FDS\\lib\\site-packages\\sklearn\\neural_network\\_multilayer_perceptron.py:691: ConvergenceWarning: Stochastic Optimizer: Maximum iterations (200) reached and the optimization hasn't converged yet.\n",
      "  warnings.warn(\n"
     ]
    },
    {
     "name": "stdout",
     "output_type": "stream",
     "text": [
      "Model [3][0]: accuracy = 87.64.\n"
     ]
    },
    {
     "name": "stderr",
     "output_type": "stream",
     "text": [
      "c:\\Anaconda\\envs\\FDS\\lib\\site-packages\\sklearn\\neural_network\\_multilayer_perceptron.py:691: ConvergenceWarning: Stochastic Optimizer: Maximum iterations (200) reached and the optimization hasn't converged yet.\n",
      "  warnings.warn(\n"
     ]
    },
    {
     "name": "stdout",
     "output_type": "stream",
     "text": [
      "Model [3][2]: accuracy = 87.55.\n"
     ]
    },
    {
     "name": "stderr",
     "output_type": "stream",
     "text": [
      "c:\\Anaconda\\envs\\FDS\\lib\\site-packages\\sklearn\\neural_network\\_multilayer_perceptron.py:691: ConvergenceWarning: Stochastic Optimizer: Maximum iterations (200) reached and the optimization hasn't converged yet.\n",
      "  warnings.warn(\n"
     ]
    },
    {
     "name": "stdout",
     "output_type": "stream",
     "text": [
      "Model [4][2]: accuracy = 87.39.\n"
     ]
    }
   ],
   "source": [
    "# Perform feature selection and record accuracies\n",
    "num_features = len(features)\n",
    "remaining_features = list(range(num_features))\n",
    "already_used_features = []\n",
    "accuracies = []\n",
    "\n",
    "null_model_accuracy = 0\n",
    "\n",
    "# Feature selection iterations\n",
    "it = 0\n",
    "accuracy_matrix = np.zeros((num_features, num_features))\n",
    "while remaining_features:\n",
    "    best_accuracy = 0\n",
    "    best_feature = None\n",
    "\n",
    "    for feature_index in remaining_features:\n",
    "        current_features = already_used_features + [feature_index]\n",
    "        X = np.hstack([features[i] for i in current_features])\n",
    "\n",
    "        X_train, X_test, y_train, y_test = train_test_split(X, labels, test_size=0.2, random_state=42, stratify=labels)\n",
    "        # Perform logistic regression and compute accuracy\n",
    "        model_ = clone(model)\n",
    "        model_.fit(X_train, y_train)\n",
    "        y_pred = model_.predict(X_test)\n",
    "        accuracy = accuracy_score(y_test, y_pred)\n",
    "\n",
    "        accuracy_matrix[it][feature_index] = accuracy\n",
    "        print(f\"Model [{it}][{feature_index}]: accuracy = {accuracy*100:4.2f}.\")\n",
    "        if accuracy > best_accuracy:\n",
    "            best_accuracy = accuracy\n",
    "            best_feature = feature_index\n",
    "\n",
    "    # Update lists\n",
    "    accuracies.append(best_accuracy)\n",
    "    remaining_features.remove(best_feature)\n",
    "    already_used_features.append(best_feature)\n",
    "    it += 1"
   ]
  },
  {
   "cell_type": "code",
   "execution_count": 5,
   "metadata": {},
   "outputs": [
    {
     "data": {
      "text/plain": [
       "[3, 1, 4, 0, 2]"
      ]
     },
     "execution_count": 5,
     "metadata": {},
     "output_type": "execute_result"
    }
   ],
   "source": [
    "already_used_features"
   ]
  },
  {
   "cell_type": "code",
   "execution_count": 6,
   "metadata": {},
   "outputs": [
    {
     "data": {
      "image/png": "[encoded data removed]",
      "text/plain": [
       "<Figure size 800x800 with 1 Axes>"
      ]
     },
     "metadata": {},
     "output_type": "display_data"
    }
   ],
   "source": [
    "# Plot model accuracies with custom colormap\n",
    "norm = colors.Normalize(vmin=0, vmax=1)\n",
    "cmap = plt.get_cmap('RdYlGn')\n",
    "plt.figure(figsize=(8, 8))\n",
    "plt.imshow(accuracy_matrix, cmap=cmap, norm=norm)\n",
    "tick_marks = np.arange(num_features)\n",
    "reordered_names = [\"empty_model\"]\n",
    "[reordered_names.append(names[i]) for i in already_used_features[:-1]]\n",
    "plt.xticks(tick_marks, labels=names, rotation='vertical', ha='center')  # Set custom tick marks\n",
    "plt.yticks(tick_marks, labels=reordered_names)\n",
    "ax = plt.gca()\n",
    "ax.xaxis.tick_top()\n",
    "ax.xaxis.set_label_position('top')\n",
    "plt.xlabel(\"Features to be added\")\n",
    "plt.ylabel(\"Best previous feature\")\n",
    "\n",
    "# Add text with colored background based on the value\n",
    "for i in range(num_features):\n",
    "    for j in range(num_features):\n",
    "        val = accuracy_matrix[i, j]\n",
    "        color = cmap(norm(val))\n",
    "        plt.text(j, i, f\"{val*100:4.2f}\" if val != 0 else '-', ha='center', va='center', color='red' if val == 0 else 'black', backgroundcolor=color)\n",
    "\n",
    "plt.title(f\"Accuracy of the partial models\")\n",
    "plt.show()"
   ]
  },
  {
   "cell_type": "code",
   "execution_count": 7,
   "metadata": {},
   "outputs": [
    {
     "data": {
      "image/png": "[encoded data removed]",
      "text/plain": [
       "<Figure size 640x480 with 1 Axes>"
      ]
     },
     "metadata": {},
     "output_type": "display_data"
    }
   ],
   "source": [
    "# Plot accuracies for each best model\n",
    "plt.plot(np.arange(1, len(accuracies)+1), np.array(accuracies)*100, marker='o')\n",
    "plt.xlabel('Number of Metrics')\n",
    "plt.ylabel('Accuracy')\n",
    "plt.ylim(0, 100)\n",
    "plt.title('Accuracy vs. Number of Metrics')\n",
    "plt.show()"
   ]
  },
  {
   "cell_type": "code",
   "execution_count": 8,
   "metadata": {},
   "outputs": [
    {
     "data": {
      "text/plain": [
       "[0.8783422459893048,\n",
       " 0.8789152024446142,\n",
       " 0.8779602750190986,\n",
       " 0.8764323911382735,\n",
       " 0.8739495798319328]"
      ]
     },
     "execution_count": 8,
     "metadata": {},
     "output_type": "execute_result"
    }
   ],
   "source": [
    "accuracies"
   ]
  }
 ],
 "metadata": {
  "kernelspec": {
   "display_name": "FDS",
   "language": "python",
   "name": "python3"
  },
  "language_info": {
   "codemirror_mode": {
    "name": "ipython",
    "version": 3
   },
   "file_extension": ".py",
   "mimetype": "text/x-python",
   "name": "python",
   "nbconvert_exporter": "python",
   "pygments_lexer": "ipython3",
   "version": "3.9.18"
  }
 },
 "nbformat": 4,
 "nbformat_minor": 2
}
