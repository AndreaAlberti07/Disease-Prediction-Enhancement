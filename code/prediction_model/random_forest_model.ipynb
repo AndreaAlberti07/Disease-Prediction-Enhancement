{
 "cells": [
  {
   "cell_type": "code",
   "execution_count": 1,
   "metadata": {},
   "outputs": [
    {
     "name": "stdout",
     "output_type": "stream",
     "text": [
      "Fitting 3 folds for each of 1 candidates, totalling 3 fits\n",
      "<bound method BaseEstimator.get_params of RandomForestClassifier(min_samples_split=5, n_estimators=300, random_state=42)>\n",
      "Best Parameters: {'max_depth': None, 'min_samples_leaf': 1, 'min_samples_split': 5, 'n_estimators': 300}\n",
      "Best Model Accuracy: 0.869\n"
     ]
    },
    {
     "name": "stderr",
     "output_type": "stream",
     "text": [
      "C:\\Users\\Cristian\\AppData\\Local\\Packages\\PythonSoftwareFoundation.Python.3.11_qbz5n2kfra8p0\\LocalCache\\local-packages\\Python311\\site-packages\\sklearn\\metrics\\_classification.py:1471: UndefinedMetricWarning: Precision and F-score are ill-defined and being set to 0.0 in labels with no predicted samples. Use `zero_division` parameter to control this behavior.\n",
      "  _warn_prf(average, modifier, msg_start, len(result))\n",
      "C:\\Users\\Cristian\\AppData\\Local\\Packages\\PythonSoftwareFoundation.Python.3.11_qbz5n2kfra8p0\\LocalCache\\local-packages\\Python311\\site-packages\\sklearn\\metrics\\_classification.py:1471: UndefinedMetricWarning: Precision and F-score are ill-defined and being set to 0.0 in labels with no predicted samples. Use `zero_division` parameter to control this behavior.\n",
      "  _warn_prf(average, modifier, msg_start, len(result))\n",
      "C:\\Users\\Cristian\\AppData\\Local\\Packages\\PythonSoftwareFoundation.Python.3.11_qbz5n2kfra8p0\\LocalCache\\local-packages\\Python311\\site-packages\\sklearn\\metrics\\_classification.py:1471: UndefinedMetricWarning: Precision and F-score are ill-defined and being set to 0.0 in labels with no predicted samples. Use `zero_division` parameter to control this behavior.\n",
      "  _warn_prf(average, modifier, msg_start, len(result))\n"
     ]
    }
   ],
   "source": [
    "import sys\n",
    "sys.path.append(\"../\")\n",
    "\n",
    "import numpy as np\n",
    "from sklearn.model_selection import train_test_split, GridSearchCV\n",
    "from sklearn.ensemble import RandomForestClassifier\n",
    "from sklearn.metrics import accuracy_score, classification_report\n",
    "from scripts.sampling import sampling, balanceSampling\n",
    "import scripts.logger as log\n",
    "import time\n",
    "\n",
    "start_time = time.time()\n",
    "\n",
    "# Load data from .npz file\n",
    "data = np.load(\"features/symptoms.npz\")\n",
    "features = data[\"X\"]\n",
    "labels = data[\"y\"]\n",
    "\n",
    "features, labels = balanceSampling(features, labels)\n",
    "log.simple_logger(f'Features size: {features.shape}')\n",
    "log.simple_logger(f'Labels size: {labels.shape}')\n",
    "\n",
    "# Split the data into training and testing sets\n",
    "X_train, X_test, y_train, y_test = train_test_split(\n",
    "    features, labels, test_size=0.2, random_state=42\n",
    ")\n",
    "\n",
    "# Define the parameter grid to search for Random Forest\n",
    "param_grid = {\n",
    "    \"n_estimators\": [300],\n",
    "    \"max_depth\": [None],\n",
    "    \"min_samples_split\": [5],\n",
    "    \"min_samples_leaf\": [1],\n",
    "}\n",
    "\n",
    "# Create a Random Forest classifier\n",
    "random_forest = RandomForestClassifier(random_state=42)\n",
    "\n",
    "# Create the GridSearchCV object\n",
    "grid_search = GridSearchCV(\n",
    "    random_forest, param_grid, verbose=3, cv=3, scoring=\"accuracy\", n_jobs=-1\n",
    ")\n",
    "\n",
    "# Fit the GridSearchCV object to the data\n",
    "grid_search.fit(X_train, y_train)\n",
    "\n",
    "# Get the best parameters and the corresponding model\n",
    "best_params = grid_search.best_params_\n",
    "best_model = grid_search.best_estimator_\n",
    "\n",
    "print(best_model.get_params)\n",
    "all_params = best_model.get_params()\n",
    "# Print the parameters\n",
    "for param, value in all_params.items():\n",
    "    log.simple_logger(f'{param}: {value}')\n",
    "\n",
    "\n",
    "# Make predictions on the test set using the best model\n",
    "predictions = best_model.predict(X_test)\n",
    "\n",
    "# Evaluate the best model\n",
    "accuracy = accuracy_score(y_test, predictions)\n",
    "report = classification_report(y_test, predictions)\n",
    "\n",
    "print(\"Best Parameters:\", best_params)\n",
    "print(f\"Best Model Accuracy: {accuracy}\")\n",
    "#print(\"Classification Report:\\n\", report)\n",
    "\n",
    "log.simple_logger(f'Accuracy: {accuracy}')\n",
    "\n",
    "end_time = time.time()\n",
    "execution_time = end_time - start_time\n",
    "\n",
    "# Convert seconds to hours, minutes, and seconds\n",
    "hours, remainder = divmod(execution_time, 3600)\n",
    "minutes, seconds = divmod(remainder, 60)\n",
    "\n",
    "# Format the execution time\n",
    "formatted_execution_time = f'{int(hours):02}:{int(minutes):02}:{seconds:.4f}'\n",
    "\n",
    "log.simple_logger(f'The code took {formatted_execution_time} seconds to execute.')\n",
    "log.simple_logger(\"\\n\\n\")"
   ]
  }
 ],
 "metadata": {
  "kernelspec": {
   "display_name": "Python 3",
   "language": "python",
   "name": "python3"
  },
  "language_info": {
   "codemirror_mode": {
    "name": "ipython",
    "version": 3
   },
   "file_extension": ".py",
   "mimetype": "text/x-python",
   "name": "python",
   "nbconvert_exporter": "python",
   "pygments_lexer": "ipython3",
   "version": "3.11.7"
  }
 },
 "nbformat": 4,
 "nbformat_minor": 2
}
